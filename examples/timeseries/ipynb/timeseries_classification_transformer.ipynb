{
 "cells": [
  {
   "cell_type": "markdown",
   "source": [
    "# Timeseries classification with a Transformer model\r\n",
    "\r\n",
    "**Author:** [Theodoros Ntakouris](https://github.com/ntakouris)<br>\r\n",
    "**Date created:** 2021/06/25<br>\r\n",
    "**Last modified:** 2021/08/05<br>\r\n",
    "**Description:** This notebook demonstrates how to do timeseries classification using a Transformer model."
   ],
   "metadata": {
    "colab_type": "text"
   }
  },
  {
   "cell_type": "markdown",
   "source": [
    "## Introduction\n",
    "\n",
    "This is the Transformer architecture from\n",
    "[Attention Is All You Need](https://arxiv.org/abs/1706.03762),\n",
    "applied to timeseries instead of natural language.\n",
    "\n",
    "This example requires TensorFlow 2.4 or higher.\n",
    "\n",
    "## Load the dataset\n",
    "\n",
    "We are going to use the same dataset and preprocessing as the\n",
    "[TimeSeries Classification from Scratch](https://keras.io/examples/timeseries/timeseries_classification_from_scratch)\n",
    "example."
   ],
   "metadata": {
    "colab_type": "text"
   }
  },
  {
   "cell_type": "code",
   "execution_count": null,
   "source": [
    "import numpy as np\r\n",
    "\r\n",
    "\r\n",
    "def readucr(filename):\r\n",
    "    data = np.loadtxt(filename, delimiter=\"\\t\")\r\n",
    "    y = data[:, 0]\r\n",
    "    x = data[:, 1:]\r\n",
    "    return x, y.astype(int)\r\n",
    "\r\n",
    "\r\n",
    "root_url = \"https://raw.githubusercontent.com/hfawaz/cd-diagram/master/FordA/\"\r\n",
    "\r\n",
    "x_train, y_train = readucr(root_url + \"FordA_TRAIN.tsv\")\r\n",
    "x_test, y_test = readucr(root_url + \"FordA_TEST.tsv\")\r\n",
    "\r\n",
    "x_train = x_train.reshape((x_train.shape[0], x_train.shape[1], 1))\r\n",
    "x_test = x_test.reshape((x_test.shape[0], x_test.shape[1], 1))\r\n",
    "\r\n",
    "n_classes = len(np.unique(y_train))\r\n",
    "\r\n",
    "idx = np.random.permutation(len(x_train))\r\n",
    "x_train = x_train[idx]\r\n",
    "y_train = y_train[idx]\r\n",
    "\r\n",
    "y_train[y_train == -1] = 0\r\n",
    "y_test[y_test == -1] = 0"
   ],
   "outputs": [],
   "metadata": {
    "colab_type": "code"
   }
  },
  {
   "cell_type": "markdown",
   "source": [
    "## Build the model\n",
    "\n",
    "Our model processes a tensor of shape `(batch size, sequence length, features)`,\n",
    "where `sequence length` is the number of time steps and `features` is each input\n",
    "timeseries.\n",
    "\n",
    "You can replace your classification RNN layers with this one: the\n",
    "inputs are fully compatible!"
   ],
   "metadata": {
    "colab_type": "text"
   }
  },
  {
   "cell_type": "code",
   "execution_count": null,
   "source": [
    "from tensorflow import keras\r\n",
    "from tensorflow.keras import layers"
   ],
   "outputs": [],
   "metadata": {
    "colab_type": "code"
   }
  },
  {
   "cell_type": "markdown",
   "source": [
    "We include residual connections, layer normalization, and dropout.\n",
    "The resulting layer can be stacked multiple times.\n",
    "\n",
    "The projection layers are implemented through `keras.layers.Conv1D`."
   ],
   "metadata": {
    "colab_type": "text"
   }
  },
  {
   "cell_type": "code",
   "execution_count": null,
   "source": [
    "\r\n",
    "def transformer_encoder(inputs, head_size, num_heads, ff_dim, dropout=0):\r\n",
    "    # Normalization and Attention\r\n",
    "    x = layers.LayerNormalization(epsilon=1e-6)(inputs)\r\n",
    "    x = layers.MultiHeadAttention(\r\n",
    "        key_dim=head_size, num_heads=num_heads, dropout=dropout\r\n",
    "    )(x, x)\r\n",
    "    x = layers.Dropout(dropout)(x)\r\n",
    "    res = x + inputs\r\n",
    "\r\n",
    "    # Feed Forward Part\r\n",
    "    x = layers.LayerNormalization(epsilon=1e-6)(res)\r\n",
    "    x = layers.Conv1D(filters=ff_dim, kernel_size=1, activation=\"relu\")(x)\r\n",
    "    x = layers.Dropout(dropout)(x)\r\n",
    "    x = layers.Conv1D(filters=inputs.shape[-1], kernel_size=1)(x)\r\n",
    "    return x + res\r\n"
   ],
   "outputs": [],
   "metadata": {
    "colab_type": "code"
   }
  },
  {
   "cell_type": "markdown",
   "source": [
    "The main part of our model is now complete. We can stack multiple of those\n",
    "`transformer_encoder` blocks and we can also proceed to add the final\n",
    "Multi-Layer Perceptron classification head. Apart from a stack of `Dense`\n",
    "layers, we need to reduce the output tensor of the `TransformerEncoder` part of\n",
    "our model down to a vector of features for each data point in the current\n",
    "batch. A common way to achieve this is to use a pooling layer. For\n",
    "this example, a `GlobalAveragePooling1D` layer is sufficient."
   ],
   "metadata": {
    "colab_type": "text"
   }
  },
  {
   "cell_type": "code",
   "execution_count": null,
   "source": [
    "\r\n",
    "def build_model(\r\n",
    "    input_shape,\r\n",
    "    head_size,\r\n",
    "    num_heads,\r\n",
    "    ff_dim,\r\n",
    "    num_transformer_blocks,\r\n",
    "    mlp_units,\r\n",
    "    dropout=0,\r\n",
    "    mlp_dropout=0,\r\n",
    "):\r\n",
    "    inputs = keras.Input(shape=input_shape)\r\n",
    "    x = inputs\r\n",
    "    for _ in range(num_transformer_blocks):\r\n",
    "        x = transformer_encoder(x, head_size, num_heads, ff_dim, dropout)\r\n",
    "\r\n",
    "    x = layers.GlobalAveragePooling1D(data_format=\"channels_first\")(x)\r\n",
    "    for dim in mlp_units:\r\n",
    "        x = layers.Dense(dim, activation=\"relu\")(x)\r\n",
    "        x = layers.Dropout(mlp_dropout)(x)\r\n",
    "    outputs = layers.Dense(n_classes, activation=\"softmax\")(x)\r\n",
    "    return keras.Model(inputs, outputs)\r\n"
   ],
   "outputs": [],
   "metadata": {
    "colab_type": "code"
   }
  },
  {
   "cell_type": "markdown",
   "source": [
    "## Train and evaluate"
   ],
   "metadata": {
    "colab_type": "text"
   }
  },
  {
   "cell_type": "code",
   "execution_count": null,
   "source": [
    "input_shape = x_train.shape[1:]\n",
    "\n",
    "model = build_model(\n",
    "    input_shape,\n",
    "    head_size=256,\n",
    "    num_heads=4,\n",
    "    ff_dim=4,\n",
    "    num_transformer_blocks=4,\n",
    "    mlp_units=[128],\n",
    "    mlp_dropout=0.4,\n",
    "    dropout=0.25,\n",
    ")\n",
    "\n",
    "model.compile(\n",
    "    loss=\"sparse_categorical_crossentropy\",\n",
    "    optimizer=keras.optimizers.Adam(learning_rate=1e-4),\n",
    "    metrics=[\"sparse_categorical_accuracy\"],\n",
    ")\n",
    "model.summary()\n",
    "\n",
    "callbacks = [keras.callbacks.EarlyStopping(patience=10, restore_best_weights=True)]\n",
    "\n",
    "model.fit(\n",
    "    x_train,\n",
    "    y_train,\n",
    "    validation_split=0.2,\n",
    "    epochs=200,\n",
    "    batch_size=64,\n",
    "    callbacks=callbacks,\n",
    ")\n",
    "\n",
    "model.evaluate(x_test, y_test, verbose=1)"
   ],
   "outputs": [],
   "metadata": {
    "colab_type": "code"
   }
  },
  {
   "cell_type": "markdown",
   "source": [
    "## Conclusions\n",
    "\n",
    "In about 110-120 epochs (25s each on Colab), the model reaches a training\n",
    "accuracy of ~0.95, validation accuracy of ~84 and a testing\n",
    "accuracy of ~85, without hyperparameter tuning. And that is for a model\n",
    "with less than 100k parameters. Of course, parameter count and accuracy could be\n",
    "improved by a hyperparameter search and a more sophisticated learning rate\n",
    "schedule, or a different optimizer."
   ],
   "metadata": {
    "colab_type": "text"
   }
  }
 ],
 "metadata": {
  "colab": {
   "collapsed_sections": [],
   "name": "timeseries_transformer_classification",
   "private_outputs": false,
   "provenance": [],
   "toc_visible": true
  },
  "kernelspec": {
   "display_name": "Python 3",
   "language": "python",
   "name": "python3"
  },
  "language_info": {
   "codemirror_mode": {
    "name": "ipython",
    "version": 3
   },
   "file_extension": ".py",
   "mimetype": "text/x-python",
   "name": "python",
   "nbconvert_exporter": "python",
   "pygments_lexer": "ipython3",
   "version": "3.7.0"
  }
 },
 "nbformat": 4,
 "nbformat_minor": 2
}