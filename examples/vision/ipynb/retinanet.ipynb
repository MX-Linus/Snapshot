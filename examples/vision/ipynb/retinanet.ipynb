{
 "cells": [
  {
   "cell_type": "markdown",
   "metadata": {
    "colab_type": "text",
    "id": "view-in-github"
   },
   "source": [
    "<a href=\"https://colab.research.google.com/github/srihari-humbarwadi/keras-io/blob/retinanet/examples/vision/ipynb/retinanet.ipynb\" target=\"_parent\"><img src=\"https://colab.research.google.com/assets/colab-badge.svg\" alt=\"Open In Colab\"/></a>"
   ]
  },
  {
   "cell_type": "code",
   "execution_count": 1,
   "metadata": {
    "colab": {
     "base_uri": "https://localhost:8080/",
     "height": 34
    },
    "colab_type": "code",
    "id": "6pn4ymQKtJUB",
    "outputId": "e239885e-f874-4ddb-b4d4-d7755dbcb3fb"
   },
   "outputs": [
    {
     "name": "stdout",
     "output_type": "stream",
     "text": [
      "INFO:tensorflow:version : 2.2.0\n"
     ]
    }
   ],
   "source": [
    "from collections import OrderedDict\n",
    "from functools import partial\n",
    "import os\n",
    "import zipfile\n",
    "\n",
    "import numpy as np\n",
    "import tensorflow as tf\n",
    "from easydict import EasyDict\n",
    "\n",
    "import matplotlib.pyplot as plt\n",
    "\n",
    "logger = tf.get_logger()\n",
    "logger.info('version : {}'.format(tf.__version__))"
   ]
  },
  {
   "cell_type": "markdown",
   "metadata": {
    "colab_type": "text",
    "id": "-qSxlcn9tJUF"
   },
   "source": [
    "#### Download the dataset"
   ]
  },
  {
   "cell_type": "code",
   "execution_count": null,
   "metadata": {
    "colab": {},
    "colab_type": "code",
    "id": "Y-gakZM5tJUF"
   },
   "outputs": [],
   "source": [
    "url = 'https://raw.githubusercontent.com/srihari-humbarwadi/shapes_dataset/master/tfrecords.zip'\n",
    "filename = os.path.join(os.getcwd(), 'shapes_tfrecords.zip')\n",
    "tf.keras.utils.get_file(filename, url, extract=True, archive_format='zip')\n",
    "\n",
    "\n",
    "with zipfile.ZipFile('shapes_tfrecords.zip', 'r') as z_fp:\n",
    "    z_fp.extractall('./')"
   ]
  },
  {
   "cell_type": "markdown",
   "metadata": {
    "colab_type": "text",
    "id": "YDO4cT1ftJUH"
   },
   "source": [
    "### Setting up Distrubution Strategy"
   ]
  },
  {
   "cell_type": "code",
   "execution_count": 3,
   "metadata": {
    "colab": {
     "base_uri": "https://localhost:8080/",
     "height": 34
    },
    "colab_type": "code",
    "id": "PuODS9bStJUI",
    "outputId": "fe7b906e-17dd-4ba6-e9f4-e8b7b5a67fd0"
   },
   "outputs": [
    {
     "name": "stdout",
     "output_type": "stream",
     "text": [
      "INFO:tensorflow:Running on GPU\n"
     ]
    }
   ],
   "source": [
    "def get_strategy(distribution_config):\n",
    "    if (not distribution_config['use_gpu']) and (not distribution_config['use_tpu']):\n",
    "        strategy = tf.distribute.OneDeviceStrategy(device='/cpu:0')\n",
    "        logger.info('Running on CPU')\n",
    "\n",
    "    elif distribution_config['use_gpu']:\n",
    "        if not tf.config.list_physical_devices('GPU'):\n",
    "            strategy = tf.distribute.OneDeviceStrategy(device='/cpu:0')\n",
    "            logger.warning('No GPU found! Running on CPU')\n",
    "        elif distribution_config['multi_gpu']:\n",
    "            strategy = tf.distribute.MirroredStrategy()\n",
    "            logger.info('Running with MirroredStrategy on {} GPU\\'s '.format(strategy.num_replicas_in_sync))\n",
    "        else:\n",
    "            strategy = tf.distribute.OneDeviceStrategy(device='/gpu:0')\n",
    "            logger.info('Running on GPU')\n",
    "\n",
    "    elif distribution_config['use_tpu']:\n",
    "        try:\n",
    "            tpu = tf.distribute.cluster_resolver.TPUClusterResolver(distribution_config['tpu_name'])\n",
    "            tf.config.experimental_connect_to_cluster(tpu)\n",
    "            tf.tpu.experimental.initialize_tpu_system(tpu)\n",
    "            strategy = tf.distribute.experimental.TPUStrategy(tpu)\n",
    "            logger.info('Running with TPUStrategy on TPU {} with {} cores '\n",
    "                        .format(tpu.cluster_spec().as_dict()['worker'],\n",
    "                                strategy.num_replicas_in_sync))\n",
    "        except Exception:\n",
    "            strategy = tf.distribute.OneDeviceStrategy(device='/cpu:0')\n",
    "            logger.warning('Failed initializing TPU! Running on CPU')\n",
    "    return strategy\n",
    "\n",
    "\n",
    "distribution_config = {\n",
    "    'use_gpu': True,\n",
    "    'multi_gpu': False,\n",
    "    'use_tpu': False,\n",
    "    'tpu_name': ''\n",
    "}\n",
    "\n",
    "strategy = get_strategy(distribution_config)"
   ]
  },
  {
   "cell_type": "markdown",
   "metadata": {
    "colab_type": "text",
    "id": "vnqsMclrtJUK"
   },
   "source": [
    "### Utility functions to deal with bounding boxes"
   ]
  },
  {
   "cell_type": "code",
   "execution_count": null,
   "metadata": {
    "colab": {},
    "colab_type": "code",
    "id": "TSjOElfitJUK"
   },
   "outputs": [],
   "source": [
    "def convert_to_xywh(boxes):\n",
    "    return tf.concat([(boxes[..., :2] + boxes[..., 2:]) / 2.0,\n",
    "                      boxes[..., 2:] - boxes[..., :2]],\n",
    "                     axis=-1)\n",
    "\n",
    "\n",
    "def convert_to_corners(boxes):\n",
    "    return tf.concat([\n",
    "        boxes[..., :2] - boxes[..., 2:] / 2.0,\n",
    "        boxes[..., :2] + boxes[..., 2:] / 2.0\n",
    "    ], axis=-1)\n",
    "\n",
    "\n",
    "def rescale_boxes(boxes, original_dims, new_dims):\n",
    "    original_dims = tf.cast(original_dims, dtype=tf.float32)\n",
    "    new_dims = tf.cast(new_dims, dtype=tf.float32)\n",
    "    scale = new_dims / original_dims\n",
    "    return tf.stack([\n",
    "        boxes[..., 0]*scale[1],\n",
    "        boxes[..., 1] * scale[0],\n",
    "        boxes[..., 2]*scale[1],\n",
    "        boxes[..., 3] * scale[0]\n",
    "    ], axis=-1)\n",
    "\n",
    "\n",
    "def relative_to_absolute(boxes, image_dims):\n",
    "    image_dims = tf.cast(image_dims, dtype=tf.float32)\n",
    "    return tf.stack([\n",
    "        boxes[..., 0]*image_dims[1],\n",
    "        boxes[..., 1] * image_dims[0],\n",
    "        boxes[..., 2]*image_dims[1],\n",
    "        boxes[..., 3] * image_dims[0]\n",
    "    ], axis=-1)\n",
    "\n",
    "\n",
    "def absolute_to_relative(boxes, image_dims):\n",
    "    image_dims = tf.cast(image_dims, dtype=tf.float32)\n",
    "    return tf.stack([\n",
    "        boxes[..., 0] / image_dims[1],\n",
    "        boxes[..., 1] / image_dims[0],\n",
    "        boxes[..., 2] / image_dims[1],\n",
    "        boxes[..., 3] / image_dims[0]\n",
    "    ], axis=-1)\n",
    "\n",
    "\n",
    "def swap_xy(boxes):\n",
    "    return tf.stack([\n",
    "        boxes[:, 1],\n",
    "        boxes[:, 0],\n",
    "        boxes[:, 3],\n",
    "        boxes[:, 2],\n",
    "    ], axis=-1)\n"
   ]
  },
  {
   "cell_type": "markdown",
   "metadata": {
    "colab_type": "text",
    "id": "aBM4zGYHtJUM"
   },
   "source": [
    "### Function to visualize detections"
   ]
  },
  {
   "cell_type": "code",
   "execution_count": null,
   "metadata": {
    "colab": {},
    "colab_type": "code",
    "id": "D4SC2ptKtJUN"
   },
   "outputs": [],
   "source": [
    "def visualize_detections(image,\n",
    "                         boxes,\n",
    "                         classes=None,\n",
    "                         scores=None,\n",
    "                         figsize=(7, 7),\n",
    "                         linewidth=1,\n",
    "                         color=[.1, .1, .4],\n",
    "                         show_labels=True):\n",
    "    image = np.array(image, dtype=np.uint8)\n",
    "    figure = plt.figure(figsize=figsize)\n",
    "    plt.axis('off')\n",
    "    plt.imshow(image)\n",
    "    ax = plt.gca()\n",
    "    ax.margins(0)\n",
    "    \n",
    "    if classes is None:\n",
    "        classes = ['' for _ in range(len(boxes))]\n",
    "        scores = ['' for _ in range(len(boxes))]\n",
    "        show_labels = False\n",
    "    \n",
    "    for box, _cls, score in zip(boxes, classes, scores):\n",
    "        x1, y1, x2, y2 = box\n",
    "        w, h = x2 - x1, y2 - y1\n",
    "        patch = plt.Rectangle([x1, y1],\n",
    "                              w,\n",
    "                              h,\n",
    "                              fill=False,\n",
    "                              edgecolor=color,\n",
    "                              linewidth=linewidth)\n",
    "        ax.add_patch(patch)\n",
    "        if show_labels:\n",
    "            text = '{}: {:.2f}'.format(_cls, score)\n",
    "            ax.text(x1,\n",
    "                    y1,\n",
    "                    text,\n",
    "                    bbox={\n",
    "                        'facecolor': color,\n",
    "                        'alpha': 0.4\n",
    "                    },\n",
    "                    clip_box=ax.clipbox,\n",
    "                    clip_on=True)\n",
    "    plt.show()\n",
    "    return figure"
   ]
  },
  {
   "cell_type": "markdown",
   "metadata": {
    "colab_type": "text",
    "id": "ZvevOY0-tJUP"
   },
   "source": [
    "### Building Anchor Boxes\n",
    " - For each feature map in the feature pyramid, we have nine anchor boxes\n",
    "    </br>at each location of the feature map.\n",
    " - At each location, we have anchor boxes with three aspect ratios and\n",
    "    </br>three different scales.\n",
    " - Default ratios: [0.5, 1, 2]\n",
    " - Default scales: [2^0, 2^(1 / 3), 2^(2 / 3)]\n",
    " - Total number of anchor boxes at each feature map: fh * fw * 9\n",
    "    </br>where fh & fw are the height and width of the feature map."
   ]
  },
  {
   "cell_type": "code",
   "execution_count": null,
   "metadata": {
    "colab": {},
    "colab_type": "code",
    "id": "N8C89bi2tJUP"
   },
   "outputs": [],
   "source": [
    "class AnchorBoxes:\n",
    "\n",
    "    def __init__(self, config):\n",
    "        self.input_height = config.image_height\n",
    "        self.input_width = config.image_width\n",
    "\n",
    "        self.areas = config.anchor_areas\n",
    "        self.scales = config.anchor_scales\n",
    "        self.aspect_ratios = config.anchor_aspect_ratios\n",
    "        self.strides = [8, 16, 32, 64, 128]\n",
    "        self._anchor_boxes = []\n",
    "        self._build_anchor_boxes()\n",
    "\n",
    "    def _get_centers(self, feature_size, stride):\n",
    "        rx = tf.range(feature_size[1], dtype=tf.float32)\n",
    "        ry = tf.range(feature_size[0], dtype=tf.float32)\n",
    "        centers = tf.stack(tf.meshgrid((0.5 + rx) * stride,\n",
    "                                       (0.5 + ry) * stride),\n",
    "                           axis=-1)\n",
    "        return tf.cast(centers, dtype=tf.float32)\n",
    "\n",
    "    def _get_dims(self, area, ratio):\n",
    "        h = np.sqrt(area / ratio)\n",
    "        w = area / h\n",
    "        wh = tf.constant([w, h], dtype=tf.float32, shape=[1, 1, 2])\n",
    "        return wh\n",
    "\n",
    "    def _build_anchor_boxes(self):\n",
    "        anchor_boxes = []\n",
    "        for i in range(len(self.strides)):\n",
    "            stride = self.strides[i]\n",
    "            area = self.areas[i]\n",
    "            feature_size = (self.input_height // stride,\n",
    "                            self.input_width // stride)\n",
    "            centers = self._get_centers(feature_size, stride)\n",
    "            anchor_box = []\n",
    "            for ratio in self.aspect_ratios:\n",
    "                wh = self._get_dims(area, ratio)\n",
    "                wh = tf.tile(wh,\n",
    "                             multiples=[feature_size[0], feature_size[1], 1])\n",
    "                for scale in self.scales:\n",
    "                    scaled_wh = wh * scale\n",
    "                    box = tf.concat([centers, scaled_wh], axis=-1)\n",
    "                    box = tf.expand_dims(box, axis=-2)\n",
    "                    anchor_box.append(box)\n",
    "            anchor_box = tf.concat(anchor_box, axis=2)\n",
    "            anchor_box = tf.reshape(anchor_box, shape=[-1, 4])\n",
    "            anchor_boxes.append(anchor_box)\n",
    "        self._anchor_boxes = tf.concat(anchor_boxes, axis=0)\n",
    "\n",
    "    @property\n",
    "    def boxes(self):\n",
    "        return self._anchor_boxes"
   ]
  },
  {
   "cell_type": "markdown",
   "metadata": {
    "colab_type": "text",
    "id": "wb7OZykBtJUR"
   },
   "source": [
    "### Matching ground truth boxes with anchor boxes\n",
    " - We compute pair wise IOU between the anchor boxes and\n",
    "    </br>ground truth boxes.\n",
    " - For each anchor box, the ground truth box with the highest\n",
    "    </br>IOU is assigned to it.\n",
    " - Anchor boxes that have IOU < 0.4 are assigned with the background class.\n",
    " - Achor boxes that have IOU >= 0.4 and < 0.5 are ignored in classification\n",
    "     </br>loss computation.\n",
    " - For bounding box regression, we only use the anchor boxes with\n",
    "    </br>IOU >= 0.5 for loss computation.\n",
    " - Each anchor box can be assigned a single ground truth box.\n",
    " - A single ground truth box may be assigned to multiple anchor boxes."
   ]
  },
  {
   "cell_type": "code",
   "execution_count": null,
   "metadata": {
    "colab": {},
    "colab_type": "code",
    "id": "U4PeM2pFtJUS"
   },
   "outputs": [],
   "source": [
    "class BoxMatcher:\n",
    "\n",
    "    def __init__(self, config):\n",
    "        self.match_iou_threshold = config.match_iou_threshold\n",
    "        self.ignore_iou_threshold = config.ignore_iou_threshold\n",
    "\n",
    "    def _compute_iou(self, boxes1, boxes2):\n",
    "        boxes1_corners = convert_to_corners(boxes1)\n",
    "        boxes2_corners = convert_to_corners(boxes2)\n",
    "\n",
    "        lu = tf.maximum(boxes1_corners[:, None, :2], boxes2_corners[:, :2])\n",
    "        rd = tf.minimum(boxes1_corners[:, None, 2:], boxes2_corners[:, 2:])\n",
    "\n",
    "        intersection = tf.maximum(0.0, rd - lu)\n",
    "        intersection_area = intersection[:, :, 0] * intersection[:, :, 1]\n",
    "\n",
    "        boxes1_area = boxes1[:, 2] * boxes1[:, 3]\n",
    "        boxes2_area = boxes2[:, 2] * boxes2[:, 3]\n",
    "\n",
    "        union_area = tf.maximum(\n",
    "            boxes1_area[:, None] + boxes2_area - intersection_area, 1e-8)\n",
    "        return tf.clip_by_value(intersection_area / union_area, 0.0, 1.0)\n",
    "\n",
    "    def __call__(self, default_boxes, gt_boxes):\n",
    "        iou_matrix = self._compute_iou(default_boxes, gt_boxes)\n",
    "        max_iou = tf.reduce_max(iou_matrix, axis=1)\n",
    "        matched_gt_idx = tf.argmax(iou_matrix, axis=1)\n",
    "        positive_mask = tf.greater_equal(max_iou, self.match_iou_threshold)\n",
    "        negative_mask = tf.less_equal(max_iou, self.ignore_iou_threshold)\n",
    "        ignore_mask = tf.logical_not(tf.logical_or(positive_mask,\n",
    "                                                   negative_mask))\n",
    "        return (matched_gt_idx,\n",
    "                tf.cast(positive_mask, dtype=tf.float32),\n",
    "                tf.cast(ignore_mask, dtype=tf.float32))"
   ]
  },
  {
   "cell_type": "markdown",
   "metadata": {
    "colab_type": "text",
    "id": "TFhKT6KAtJUU"
   },
   "source": [
    "### Encoding the labels\n",
    " -  The target label for RetinaNet has two parts\n",
    "     - Box targets: For each of the localtion on the feature map\n",
    "         </br>the anchor boxes are responsible to regress 4 values.\n",
    "     - Classification targets: For each of the localtion on the feature map\n",
    "         </br>the anchor boxes are also responsible to predict probablities for the K classes.\n",
    "         \n",
    "         \n",
    " - Encoding Box targets:\n",
    "     - Let [x, y, w, h] and [xa, ya, wa, ha] represent the assigned\n",
    "        </br>ground truth and the anchor box respectively and [tx, ty, tw, th] be the target.\n",
    "     </br> The targets can be computed as follows.\n",
    "     - tx = (x - xa) / wa\n",
    "     - ty = (y - ya) / wh\n",
    "     - tw = log(w / wa)\n",
    "     - th = log(h / ha)\n",
    "     \n",
    "     \n",
    " - Encoding the classification targets:\n",
    "     - We only encode classification targets as cls_ids, as we will be expanding\n",
    "         </br>them as one hot labels during the loss computation.\n",
    "     - The Anchor boxes assigned with the background class are encoded as -1\n",
    "     - Anchor boxes that are supposed to be ignored are encoded as -2\n",
    "     - The remaining anchor boxes are encoded with the cls_ids of the assigned\n",
    "         </br>ground truth box."
   ]
  },
  {
   "cell_type": "code",
   "execution_count": null,
   "metadata": {
    "colab": {},
    "colab_type": "code",
    "id": "FcrBBW6xtJUV"
   },
   "outputs": [],
   "source": [
    "class LabelEncoder:\n",
    "\n",
    "    def __init__(self, config):\n",
    "        self.num_classes = config.num_classes\n",
    "        self.box_variance = tf.constant(config.box_variance, dtype=tf.float32)\n",
    "        self._anchor_boxes = AnchorBoxes(config).boxes\n",
    "        self._box_matcher = BoxMatcher(config)\n",
    "\n",
    "    def _compute_box_target(self, matched_gt_boxes):\n",
    "        box_target = tf.concat(\n",
    "            [(matched_gt_boxes[:, :2] - self._anchor_boxes[:, :2]) /\n",
    "             self._anchor_boxes[:, 2:],\n",
    "             tf.math.log(matched_gt_boxes[:, 2:] / self._anchor_boxes[:, 2:])],\n",
    "            axis=-1)\n",
    "        box_target = box_target / self.box_variance\n",
    "        return box_target\n",
    "\n",
    "    def encode_sample(self, gt_boxes, cls_ids):\n",
    "        cls_ids = tf.cast(cls_ids, dtype=tf.float32)\n",
    "\n",
    "        matched_gt_idx, positive_mask, ignore_mask = \\\n",
    "            self._box_matcher(self._anchor_boxes, gt_boxes)\n",
    "\n",
    "        matched_gt_boxes = tf.gather(gt_boxes, matched_gt_idx)\n",
    "        box_target = self._compute_box_target(matched_gt_boxes)\n",
    "\n",
    "        matched_gt_cls_ids = tf.gather(cls_ids, matched_gt_idx)\n",
    "        cls_target = tf.where(tf.not_equal(positive_mask, 1.0),\n",
    "                              -1.0,\n",
    "                              matched_gt_cls_ids)\n",
    "        cls_target = tf.where(tf.equal(ignore_mask, 1.0),\n",
    "                              -2.0,\n",
    "                              cls_target)\n",
    "        cls_target = tf.expand_dims(cls_target, axis=-1)\n",
    "        label = tf.concat([box_target, cls_target], axis=-1)\n",
    "        return label"
   ]
  },
  {
   "cell_type": "markdown",
   "metadata": {
    "colab_type": "text",
    "id": "0fFot_KetJUX"
   },
   "source": [
    "### Building the tf.data pipeline\n",
    " - For efficient data loading, the dataset has been converted into tfrecords.\n",
    " - The tfrecords  has have the following features:\n",
    "     - image: path to the image file\n",
    "     - xmins: ymins, xmaxs, ymaxs: Represent the bounding boxes of the objects\n",
    "     - classes: Integer class ids for of the objects"
   ]
  },
  {
   "cell_type": "code",
   "execution_count": null,
   "metadata": {
    "colab": {},
    "colab_type": "code",
    "id": "Uq2yj5a6tJUX"
   },
   "outputs": [],
   "source": [
    "class DatasetBuilder:\n",
    "\n",
    "    def __init__(self, split, config):\n",
    "        self.split = split\n",
    "        self._label_encoder = LabelEncoder(config)\n",
    "        self.input_height = config.image_height\n",
    "        self.input_width = config.image_width\n",
    "        self.batch_size = config.batch_size\n",
    "        self.mean_pixel = tf.constant(config.mean_pixel, dtype=tf.float32)\n",
    "        self.flip_lr = config.augmentation.flip_lr\n",
    "        self.cache_dataset_in_memory = config.cache_dataset_in_memory\n",
    "\n",
    "        self._dataset = None\n",
    "        self._tfrecords = tf.data.Dataset.list_files(config.tfrecords[split])\n",
    "        self._build_tfrecord_dataset()\n",
    "\n",
    "    def _random_flip_lr(self, image, boxes):\n",
    "        '''flip the image and boxes horizontally with 50% chance'''\n",
    "        w = tf.cast(tf.shape(image)[1], dtype=tf.float32)\n",
    "        if tf.random.uniform(()) > 0.5:\n",
    "            image = tf.image.flip_left_right(image)\n",
    "            boxes = tf.stack(\n",
    "                [w - boxes[:, 2], boxes[:, 1], w - boxes[:, 0], boxes[:, 3]],\n",
    "                axis=-1)\n",
    "        return image, boxes\n",
    "\n",
    "    def _pad_to_square_fn(self, image, boxes):\n",
    "        '''\n",
    "        Pads the image with zeros to make it a\n",
    "        square with side equal the largest side\n",
    "        '''\n",
    "        dims = tf.shape(image)\n",
    "        image_height = dims[0]\n",
    "        image_width = dims[1]\n",
    "\n",
    "        side = tf.maximum(image_height, image_width)\n",
    "        if tf.random.uniform(()) > 0.5:\n",
    "            offset_x = 0\n",
    "            offset_y = 0\n",
    "        else:\n",
    "            if image_height < image_width:\n",
    "                offset_x = 0\n",
    "                offset_y = side - image_height\n",
    "            else:\n",
    "                offset_x = side - image_width\n",
    "                offset_y = 0\n",
    "        padded_image = tf.image.pad_to_bounding_box(image, offset_y, offset_x, side, side)\n",
    "\n",
    "        offset_x = tf.cast(offset_x, dtype=tf.float32)\n",
    "        offset_y = tf.cast(offset_y, dtype=tf.float32)\n",
    "        offset_boxes = tf.stack([\n",
    "            boxes[:, 0] + offset_x,\n",
    "            boxes[:, 1] + offset_y,\n",
    "            boxes[:, 2] + offset_x,\n",
    "            boxes[:, 3] + offset_y,\n",
    "        ], axis=-1)\n",
    "        return padded_image, offset_boxes\n",
    "\n",
    "    def _parse_example(self, example_proto):\n",
    "        feature_description = {\n",
    "            'image': tf.io.FixedLenFeature([], tf.string),\n",
    "            'xmins': tf.io.VarLenFeature(tf.float32),\n",
    "            'ymins': tf.io.VarLenFeature(tf.float32),\n",
    "            'xmaxs': tf.io.VarLenFeature(tf.float32),\n",
    "            'ymaxs': tf.io.VarLenFeature(tf.float32),\n",
    "            'classes': tf.io.VarLenFeature(tf.int64),\n",
    "        }\n",
    "\n",
    "        parsed_example = tf.io.parse_single_example(example_proto,\n",
    "                                                    feature_description)\n",
    "\n",
    "        classes = tf.sparse.to_dense(parsed_example['classes'])\n",
    "\n",
    "        image = tf.io.decode_image(parsed_example['image'], channels=3)\n",
    "        image = tf.cast(image, dtype=tf.float32)\n",
    "        image.set_shape([None, None, 3])\n",
    "\n",
    "        boxes = tf.stack([\n",
    "            tf.sparse.to_dense(parsed_example['xmins']),\n",
    "            tf.sparse.to_dense(parsed_example['ymins']),\n",
    "            tf.sparse.to_dense(parsed_example['xmaxs']),\n",
    "            tf.sparse.to_dense(parsed_example['ymaxs']),\n",
    "        ], axis=-1)\n",
    "        boxes = tf.cast(boxes, dtype=tf.float32)\n",
    "        return image, boxes, classes\n",
    "\n",
    "    def _parse_and_create_label(self, example_proto):\n",
    "        '''Parse the tfrecord and create the targets'''\n",
    "        image, boxes, classes = self._parse_example(example_proto)\n",
    "        original_dims = tf.cast(tf.shape(image), dtype=tf.float32)\n",
    "        boxes = tf.stack([\n",
    "            tf.clip_by_value(boxes[..., 0], 0, original_dims[1]),\n",
    "            tf.clip_by_value(boxes[..., 1], 0, original_dims[0]),\n",
    "            tf.clip_by_value(boxes[..., 2], 0, original_dims[1]),\n",
    "            tf.clip_by_value(boxes[..., 3], 0, original_dims[0])\n",
    "        ], axis=-1)\n",
    "        image = image[:, :, ::-1] - self.mean_pixel\n",
    "        image, boxes = self._pad_to_square_fn(image, boxes)\n",
    "        new_dims = tf.shape(image)\n",
    "        image = tf.image.resize(image,\n",
    "                                size=[self.input_height, self.input_width])\n",
    "\n",
    "        boxes = rescale_boxes(boxes,\n",
    "                              [new_dims[0], new_dims[1]],\n",
    "                              [self.input_height, self.input_width])\n",
    "\n",
    "        if self.flip_lr:\n",
    "            image, boxes = self._random_flip_lr(image, boxes)\n",
    "\n",
    "        boxes_xywh = convert_to_xywh(boxes)\n",
    "        label = self._label_encoder.encode_sample(boxes_xywh, classes)\n",
    "        return image, label\n",
    "\n",
    "    def _build_tfrecord_dataset(self):\n",
    "        _options = tf.data.Options()\n",
    "        _options.experimental_deterministic = False\n",
    "        _autotune = tf.data.experimental.AUTOTUNE\n",
    "        \n",
    "        dataset = self._tfrecords.interleave(\n",
    "            tf.data.TFRecordDataset,\n",
    "            cycle_length=8,\n",
    "            block_length=4,\n",
    "            num_parallel_calls=_autotune)\n",
    "        dataset = dataset.with_options(_options)\n",
    "        if self.cache_dataset_in_memory:\n",
    "            dataset = dataset.cache()\n",
    "        dataset = dataset.shuffle(8*self.batch_size)\n",
    "        dataset = dataset.map(self._parse_and_create_label,\n",
    "                              num_parallel_calls=_autotune)\n",
    "        dataset = dataset.batch(self.batch_size, drop_remainder=True)\n",
    "        dataset = dataset.repeat()\n",
    "        dataset = dataset.prefetch(_autotune)\n",
    "        self._dataset = dataset\n",
    "\n",
    "    @property\n",
    "    def dataset(self):\n",
    "        return self._dataset"
   ]
  },
  {
   "cell_type": "markdown",
   "metadata": {
    "colab_type": "text",
    "id": "9rwJYpt5tJUZ"
   },
   "source": [
    "### Implementing a custom layer to decode the predictions"
   ]
  },
  {
   "cell_type": "code",
   "execution_count": null,
   "metadata": {
    "colab": {},
    "colab_type": "code",
    "id": "7ZnQj_v_tJUZ"
   },
   "outputs": [],
   "source": [
    "class DecodePredictions(tf.keras.layers.Layer):\n",
    "\n",
    "    def __init__(self, config, **kwargs):\n",
    "        self._from_logits = kwargs.pop('from_logits', True)\n",
    "        super(DecodePredictions, self).__init__(**kwargs)\n",
    "        self.input_height = config.image_height\n",
    "        self.input_width = config.image_width\n",
    "        self.confidence_threshold = config.confidence_threshold\n",
    "        self.nms_iou_threshold = config.nms_iou_threshold\n",
    "        self.max_detections = config.max_detections\n",
    "        self.top_k_boxes = config.top_k_boxes\n",
    "        self.box_variance = config.box_variance\n",
    "\n",
    "        self._anchor_boxes = AnchorBoxes(config).boxes\n",
    "        self.built = True\n",
    "\n",
    "    def _decode_box_predictions(self, box_predictions):\n",
    "        # box_predictions.shape == [None, A, 4]\n",
    "        boxes = box_predictions * self.box_variance\n",
    "        boxes = tf.concat([\n",
    "            boxes[:, :2] * self._anchor_boxes[:, 2:] +\n",
    "            self._anchor_boxes[:, :2],\n",
    "            tf.math.exp(boxes[:, 2:]) * self._anchor_boxes[:, 2:]\n",
    "        ],\n",
    "            axis=-1)\n",
    "        boxes_transformed = convert_to_corners(boxes)\n",
    "        boxes_transformed = tf.stack([\n",
    "            tf.clip_by_value(boxes_transformed[:, 0], 0, self.input_width),\n",
    "            tf.clip_by_value(boxes_transformed[:, 1], 0, self.input_height),\n",
    "            tf.clip_by_value(boxes_transformed[:, 2], 0, self.input_width),\n",
    "            tf.clip_by_value(boxes_transformed[:, 3], 0, self.input_height),\n",
    "        ],\n",
    "            axis=-1)\n",
    "        # boxes_transformed.shape == [None, A, 4]\n",
    "        return boxes_transformed\n",
    "\n",
    "    def _decode_cls_predictions(self, cls_predictions):\n",
    "        # cls_predictions.shape == [None, A, num_classes]\n",
    "        if self._from_logits:\n",
    "            cls_predictions = tf.nn.sigmoid(cls_predictions)\n",
    "        cls_probs = tf.reduce_max(cls_predictions, axis=-1)\n",
    "        cls_ids = tf.argmax(cls_predictions, axis=-1)\n",
    "        return cls_ids, cls_probs\n",
    "\n",
    "    def _filter_top_k(self, boxes, cls_ids, cls_probs):\n",
    "        filtered_cls_probs, idx = tf.nn.top_k(cls_probs, k=self.top_k_boxes)\n",
    "        filtered_boxes = tf.gather(boxes, idx)\n",
    "        filtered_cls_ids = tf.gather(cls_ids, idx)\n",
    "        return filtered_boxes, filtered_cls_ids, filtered_cls_probs\n",
    "\n",
    "    def call(self, predictions):\n",
    "        #    predictions.shape == [1, A, (4 + num_classes)]\n",
    "        predictions = predictions[0]  # Batch decoding is not supported\n",
    "        box_predictions = predictions[:, :4]\n",
    "        cls_predictions = predictions[:, 4:]\n",
    "\n",
    "        cls_ids, cls_probs = self._decode_cls_predictions(cls_predictions)\n",
    "        boxes = self._decode_box_predictions(box_predictions)\n",
    "        boxes, cls_ids, cls_probs = self._filter_top_k(boxes, cls_ids, cls_probs)\n",
    "\n",
    "        nms_idx = tf.image.non_max_suppression(swap_xy(boxes), cls_probs,\n",
    "                                               self.max_detections,\n",
    "                                               self.nms_iou_threshold,\n",
    "                                               self.confidence_threshold)\n",
    "        detections = {\n",
    "            'boxes': tf.gather(boxes, nms_idx),\n",
    "            'cls_ids': tf.gather(cls_ids, nms_idx),\n",
    "            'cls_probs': tf.gather(cls_probs, nms_idx)\n",
    "        }\n",
    "        return detections"
   ]
  },
  {
   "cell_type": "markdown",
   "metadata": {
    "colab_type": "text",
    "id": "4N0g6NY2tJUb"
   },
   "source": [
    "#### Smooth L1 loss for box outputs"
   ]
  },
  {
   "cell_type": "code",
   "execution_count": null,
   "metadata": {
    "colab": {},
    "colab_type": "code",
    "id": "qXXKTANEtJUc"
   },
   "outputs": [],
   "source": [
    "class RetinaNetBoxLoss(tf.losses.Loss):\n",
    "\n",
    "    def __init__(self, delta):\n",
    "        super(RetinaNetBoxLoss, self).__init__(reduction='none',\n",
    "                                               name='RetinaNetBoxLoss')\n",
    "        self._delta = delta\n",
    "\n",
    "    def call(self, y_true, y_pred):\n",
    "        loss = tf.compat.v1.losses.huber_loss(labels=y_true,\n",
    "                                              predictions=y_pred,\n",
    "                                              delta=self._delta,\n",
    "                                              reduction='none')\n",
    "        loss = tf.reduce_sum(loss, axis=-1)\n",
    "        return loss"
   ]
  },
  {
   "cell_type": "markdown",
   "metadata": {
    "colab_type": "text",
    "id": "f9iFwIR9tJUd"
   },
   "source": [
    "#### Focal loss for classification outputs"
   ]
  },
  {
   "cell_type": "code",
   "execution_count": null,
   "metadata": {
    "colab": {},
    "colab_type": "code",
    "id": "pOqYxiu6tJUe"
   },
   "outputs": [],
   "source": [
    "class RetinaNetClassificationLoss(tf.losses.Loss):\n",
    "\n",
    "    def __init__(self, alpha, gamma):\n",
    "        super(RetinaNetClassificationLoss,\n",
    "              self).__init__(reduction='none',\n",
    "                             name='RetinaNetClassificationLoss')\n",
    "        self._alpha = alpha\n",
    "        self._gamma = gamma\n",
    "\n",
    "    def _focal_loss(self, y_true, y_pred):\n",
    "        cross_entropy = tf.nn.sigmoid_cross_entropy_with_logits(labels=y_true,\n",
    "                                                                logits=y_pred)\n",
    "        probs = tf.nn.sigmoid(y_pred)\n",
    "        alpha = tf.where(tf.equal(y_true, 1.0),\n",
    "                        self._alpha,\n",
    "                        (1.0 - self._alpha))\n",
    "        pt = tf.where(tf.equal(y_true, 1.0), probs, 1 - probs)\n",
    "        loss = alpha * tf.pow(1.0 - pt, self._gamma) * cross_entropy\n",
    "        return tf.reduce_sum(loss, axis=-1)\n",
    "\n",
    "    def call(self, y_true, y_pred):\n",
    "        return self._focal_loss(y_true, y_pred)"
   ]
  },
  {
   "cell_type": "markdown",
   "metadata": {
    "colab_type": "text",
    "id": "7hskouyEtJUg"
   },
   "source": [
    "#### Implementing a wrapper to normalize both losses"
   ]
  },
  {
   "cell_type": "code",
   "execution_count": null,
   "metadata": {
    "colab": {},
    "colab_type": "code",
    "id": "4s1wppqetJUg"
   },
   "outputs": [],
   "source": [
    "class RetinaNetLoss(tf.losses.Loss):\n",
    "\n",
    "    def __init__(self, num_classes, alpha, gamma, delta):\n",
    "        super(RetinaNetLoss, self).__init__(reduction='none',\n",
    "                                            name='RetinaNetLoss')\n",
    "        self._cls_loss = RetinaNetClassificationLoss(alpha, gamma)\n",
    "        self._box_loss = RetinaNetBoxLoss(delta)\n",
    "        self._num_classes = num_classes\n",
    "        \n",
    "    def call(self, y_true, y_pred):\n",
    "        box_labels = y_true[:, :, :4]\n",
    "        box_predictions = y_pred[:, :, :4]\n",
    "        \n",
    "        cls_labels = tf.one_hot(tf.cast(y_true[:, :, 4], dtype=tf.int32),\n",
    "                                depth=self._num_classes,\n",
    "                                dtype=tf.float32)\n",
    "        cls_predictions = y_pred[:, :, 4:]\n",
    "        \n",
    "        positive_mask = tf.cast(tf.greater(y_true[:, :, 4], -1.0), dtype=tf.float32)\n",
    "        ignore_mask = tf.cast(tf.equal(y_true[:, :, 4], -2.0), dtype=tf.float32)\n",
    "\n",
    "        cls_loss = self._cls_loss(cls_labels, cls_predictions) #  [None, A]\n",
    "        box_loss = self._box_loss(box_labels, box_predictions) #  [None, A]\n",
    "\n",
    "        cls_loss = tf.where(tf.equal(ignore_mask, 1.0), 0.0, cls_loss)\n",
    "        box_loss = tf.where(tf.equal(positive_mask, 1.0), box_loss, 0.0)\n",
    "        \n",
    "        # Number of positive anchor boxes for each sample in the batch\n",
    "        normalizer = tf.reduce_sum(positive_mask, axis=-1)\n",
    "        \n",
    "        # tf.math.divide_no_nan returns 0 if divide by zero occurs\n",
    "        cls_loss = tf.math.divide_no_nan(tf.reduce_sum(cls_loss, axis=-1), normalizer)\n",
    "        box_loss = tf.math.divide_no_nan(tf.reduce_sum(box_loss, axis=-1), normalizer)\n",
    "        return cls_loss, box_loss"
   ]
  },
  {
   "cell_type": "markdown",
   "metadata": {
    "colab_type": "text",
    "id": "ThO3k1uktJUi"
   },
   "source": [
    "### Building FPN"
   ]
  },
  {
   "cell_type": "code",
   "execution_count": null,
   "metadata": {
    "colab": {},
    "colab_type": "code",
    "id": "Tdz6ErXYtJUi"
   },
   "outputs": [],
   "source": [
    "def conv2d(inputs,\n",
    "               filters,\n",
    "               kernel_size,\n",
    "               strides,\n",
    "               kernel_initializer='he_normal',\n",
    "               bias_initializer='zeros',\n",
    "               name=None):\n",
    "    return tf.keras.layers.Conv2D(filters=filters,\n",
    "                                  kernel_size=kernel_size,\n",
    "                                  padding='same',\n",
    "                                  strides=strides,\n",
    "                                  kernel_initializer=kernel_initializer,\n",
    "                                  bias_initializer=bias_initializer,\n",
    "                                  name=name)(inputs)\n",
    "\n",
    "\n",
    "def build_backbone(input_height, input_width):\n",
    "    backbone = tf.keras.applications.ResNet50(\n",
    "        include_top=False, input_shape=[input_height, input_width, 3])\n",
    "\n",
    "    C3, C4, C5 = [\n",
    "        backbone.get_layer(layer_name).output for layer_name in\n",
    "        ['conv3_block4_out', 'conv4_block6_out', 'conv5_block3_out']\n",
    "    ]\n",
    "    return backbone, (C3, C4, C5)\n",
    "\n",
    "\n",
    "def get_feature_pyramid(features):\n",
    "    _upsample = partial(tf.keras.layers.UpSampling2D,\n",
    "                        size=2,\n",
    "                        interpolation='nearest')\n",
    "    \n",
    "    # P6 is obtained via a 3×3 stride-2 conv on C5, and P7 is computed\n",
    "    # by applying ReLU followed by a 3×3 stride-2 conv on P6.\n",
    "\n",
    "    P6 = conv2d(features[-1], 256, 3, 2, name='P6')\n",
    "    P6_relu = tf.keras.layers.ReLU(name='P6_relu')(P6)\n",
    "    P7 = conv2d(P6_relu, 256, 3, 2, name='P7')\n",
    "\n",
    "    # lateral connections\n",
    "    features = [\n",
    "        conv2d(feature, 256, 1, 1, name=f'C{i+3}_projection')\n",
    "        for i, feature in enumerate(features)\n",
    "    ]\n",
    "\n",
    "    P5 = conv2d(features[2], 256, 3, 1, name='P5')\n",
    "    P4 = tf.keras.layers.Add(name='P4_P5UP')(\n",
    "        [features[1], _upsample(name='P5_upsample')(features[2])])\n",
    "    P4 = conv2d(P4, 256, 3, 1, name='P4')\n",
    "    P3 = tf.keras.layers.Add(name='P3_P4UP')(\n",
    "        [features[0], _upsample(name='P4_upsample')(features[1])])\n",
    "    P3 = conv2d(P3, 256, 3, 1, name='P3')\n",
    "\n",
    "    return [P3, P4, P5, P6, P7]"
   ]
  },
  {
   "cell_type": "markdown",
   "metadata": {
    "colab_type": "text",
    "id": "xzxgCliItJUn"
   },
   "source": [
    "#### Loss utils"
   ]
  },
  {
   "cell_type": "code",
   "execution_count": null,
   "metadata": {
    "colab": {},
    "colab_type": "code",
    "id": "HKf0ZjvxtJUn"
   },
   "outputs": [],
   "source": [
    "def _safe_mean(losses):\n",
    "    '''compute mean, avoids divide by zero'''\n",
    "    num_values = tf.cast(tf.size(losses), dtype=tf.float32)\n",
    "    return tf.math.divide_no_nan(tf.reduce_sum(losses), num_values)\n",
    "\n",
    "\n",
    "def _scale_loss(loss):\n",
    "    '''returns scaled loss, used when training with all-reduce'''\n",
    "    strategy = tf.distribute.get_strategy()\n",
    "    num_replicas = strategy.num_replicas_in_sync\n",
    "    return loss * (1. / num_replicas)\n",
    "\n",
    "\n",
    "def get_scaled_losses(loss, regularization_losses=None):\n",
    "    '''returns scaled losses that can be used in optizimer.apply_gradients'''\n",
    "    loss = _scale_loss(_safe_mean(loss))\n",
    "    if regularization_losses:\n",
    "        regularization_losses = tf.math.add_n(regularization_losses)\n",
    "        regularization_losses = _scale_loss(regularization_losses)\n",
    "        loss = loss + regularization_losses\n",
    "    return loss\n",
    "\n",
    "\n",
    "def reduce_losses(losses_dict):\n",
    "    return {loss: _safe_mean(value) for loss, value in losses_dict.items()}"
   ]
  },
  {
   "cell_type": "markdown",
   "metadata": {
    "colab_type": "text",
    "id": "IBuW3TVvtJUp"
   },
   "source": [
    "### Building RetinaNet"
   ]
  },
  {
   "cell_type": "code",
   "execution_count": null,
   "metadata": {
    "colab": {},
    "colab_type": "code",
    "id": "QI65yoq1tJUq"
   },
   "outputs": [],
   "source": [
    "class RetinaNet(tf.keras.Model):\n",
    "    def __init__(self, config, **kwargs):\n",
    "        super(RetinaNet, self).__init__(**kwargs)\n",
    "        self.input_height = config.image_height\n",
    "        self.input_width = config.image_width\n",
    "        self.num_classes = config.num_classes\n",
    "        self.l2_regularization = config.l2_regularization\n",
    "\n",
    "        self._network = self._build_retinanet()\n",
    "        self._decode_predictions = DecodePredictions(config)\n",
    "\n",
    "    def compile(self, loss_fn, optimizer, **kwargs):\n",
    "        super(RetinaNet, self).compile(**kwargs)\n",
    "        self.loss_fn = loss_fn\n",
    "        self.optimizer = optimizer\n",
    "\n",
    "    def call(self, inputs, training):\n",
    "        return self._network(inputs, training=training)\n",
    "\n",
    "    def train_step(self, data):\n",
    "        images, y_true = data[0], data[1]\n",
    "\n",
    "        with tf.GradientTape() as tape:\n",
    "            # set training to True so that batch norms layers update their weights\n",
    "            y_pred = self(images, training=True)\n",
    "            loss_values = self.loss_fn(y_true, y_pred)\n",
    "            cls_loss = loss_values[0]\n",
    "            box_loss = loss_values[1]\n",
    "\n",
    "            loss = cls_loss + box_loss\n",
    "            \n",
    "            # get regularization losses\n",
    "            regularization_losses = self.losses\n",
    "\n",
    "            # all-reduce sums gradients from each replica so we scale the\n",
    "            # loss to take this into account\n",
    "            _scaled_losses = get_scaled_losses(loss, regularization_losses)\n",
    "\n",
    "        gradients = tape.gradient(_scaled_losses, self.trainable_variables)\n",
    "        self.optimizer.apply_gradients(zip(gradients, self.trainable_variables))\n",
    "\n",
    "        loss_dict = OrderedDict({\n",
    "            'total_loss': loss,\n",
    "            'cls_loss': cls_loss,\n",
    "            'box_loss': box_loss,\n",
    "        })\n",
    "\n",
    "        if self.l2_regularization:\n",
    "            loss_dict['regularization_losses'] = regularization_losses\n",
    "\n",
    "        # average all losses, these are tracked and displayed by the fit method\n",
    "        return reduce_losses(loss_dict)\n",
    "\n",
    "    def test_step(self, data):\n",
    "        images, y_true = data[0], data[1]\n",
    "\n",
    "        # set training to True so that batch norms layers don't update their weights\n",
    "        y_pred = self(images, training=False)\n",
    "        loss_values = self.loss_fn(y_true, y_pred)\n",
    "        cls_loss = loss_values[0]\n",
    "        box_loss = loss_values[1]\n",
    "\n",
    "        loss = cls_loss + box_loss\n",
    "\n",
    "        loss_dict = OrderedDict({\n",
    "            'total_loss': loss,\n",
    "            'cls_loss': cls_loss,\n",
    "            'box_loss': box_loss,\n",
    "        })\n",
    "\n",
    "        # average all losses, these are tracked and displayed by the fit method\n",
    "        return reduce_losses(loss_dict)\n",
    "\n",
    "    def predict_step(self, data):\n",
    "        '''overide the predict_step, so that we can directly get the detections'''\n",
    "        images = data[0]\n",
    "\n",
    "        # set training to True so that batch norms layers don't update their weights\n",
    "        predictions = self.call(images, training=False)\n",
    "        return self._decode_predictions(predictions)\n",
    "\n",
    "    @tf.function\n",
    "    def get_detections(self, images):\n",
    "        '''tf.function decorated function that can be exported in the saved_model'''\n",
    "        return self.predict_step((images,))\n",
    "\n",
    "    def _get_box_head_layers(self):\n",
    "        '''Get the shared conv2d layers for the box head'''\n",
    "        conv_layers = []\n",
    "        for i in range(4):\n",
    "            conv_layers += [\n",
    "                tf.keras.layers.Conv2D(\n",
    "                    filters=256,\n",
    "                    kernel_size=3,\n",
    "                    padding='same',\n",
    "                    kernel_initializer=tf.initializers.RandomNormal(0.0, 0.01),\n",
    "                    bias_initializer=tf.initializers.zeros(),\n",
    "                    name=f'box_head_shared_conv_{i+1}')\n",
    "            ]\n",
    "        conv_layers += [\n",
    "            tf.keras.layers.Conv2D(\n",
    "                filters=9 * 4,\n",
    "                kernel_size=3,\n",
    "                padding='same',\n",
    "                kernel_initializer=tf.initializers.RandomNormal(0.0, 1e-5),\n",
    "                bias_initializer=tf.initializers.zeros(),\n",
    "                name='box_head_shared_prediction_conv')\n",
    "        ]\n",
    "        return conv_layers\n",
    "\n",
    "    def _build_box_head(self, feature_pyramid):\n",
    "        '''Building the box head, this is shared between all the feature levels'''\n",
    "        box_predictions = []\n",
    "        conv_layers = self._get_box_head_layers()\n",
    "        for feature in feature_pyramid:\n",
    "            _, fh, fw, _ = feature.get_shape()\n",
    "            x = feature\n",
    "            for i, conv_layer in enumerate(conv_layers[:-1]):\n",
    "                x = conv_layer(x)\n",
    "                name_bn = feature.name[:2] + f'_box_head_bn_{i+1}'\n",
    "                name_relu = feature.name[:2] + f'_box_head_relu_{i+1}'\n",
    "\n",
    "                #  Each feature level has its own batch norm layer.\n",
    "                #  Unlike the conv2d layers, this is not shared because\n",
    "                #  the batch statistics are not the same for each feature level\n",
    "                #  We learn this independently at each feature level.\n",
    "\n",
    "                x = tf.keras.layers.BatchNormalization(name=name_bn)(x)\n",
    "                x = tf.keras.layers.ReLU(name=name_relu)(x)\n",
    "            x = conv_layers[-1](x)\n",
    "            x = tf.keras.layers.Reshape([fh * fw * 9, 4],\n",
    "                                        name=feature.name[:2] +\n",
    "                                        '_box_predictions_reshape')(x)\n",
    "            box_predictions.append(x)\n",
    "        box_predictions = tf.keras.layers.Concatenate(\n",
    "            axis=1, name='box_head_predictions')(box_predictions)\n",
    "        return box_predictions\n",
    "\n",
    "    def _get_cls_head_layers(self):\n",
    "        '''Get the shared conv2d layers for the classification head'''\n",
    "        conv_layers = []\n",
    "        for i in range(4):\n",
    "            conv_layers += [\n",
    "                tf.keras.layers.Conv2D(\n",
    "                    filters=256,\n",
    "                    kernel_size=3,\n",
    "                    padding='same',\n",
    "                    kernel_initializer=tf.initializers.RandomNormal(0.0, 0.01),\n",
    "                    bias_initializer=tf.initializers.zeros(),\n",
    "                    name=f'cls_head_shared_conv_{i+1}')\n",
    "            ]\n",
    "\n",
    "        # initialize the weights of the the predictions layer such that, it assigns\n",
    "        # the probability of 0.01 to all the anchor boxes. This avoids large gradients\n",
    "        # in the early stages of training, since most of the locations belong to\n",
    "        # the background class.\n",
    "        conv_layers += [\n",
    "            tf.keras.layers.Conv2D(\n",
    "                filters=9 * self.num_classes,\n",
    "                kernel_size=3,\n",
    "                padding='same',\n",
    "                kernel_initializer=tf.initializers.RandomNormal(0.0, 1e-5),\n",
    "                bias_initializer=tf.constant_initializer(-np.log((1 - 0.01) /\n",
    "                                                                 0.01)),\n",
    "                name='cls_head_shared_prediction_conv')\n",
    "        ]\n",
    "        return conv_layers\n",
    "\n",
    "    def _build_cls_head(self, feature_pyramid):\n",
    "        '''Building the box head, this is shared between all the feature levels'''\n",
    "        cls_predictions = []\n",
    "        conv_layers = self._get_cls_head_layers()\n",
    "        for feature in feature_pyramid:\n",
    "            _, fh, fw, _ = feature.get_shape()\n",
    "            x = feature\n",
    "            for i, conv_layer in enumerate(conv_layers[:-1]):\n",
    "                x = conv_layer(x)\n",
    "                name_bn = feature.name[:2] + f'_cls_head_bn_{i+1}'\n",
    "                name_relu = feature.name[:2] + f'_cls_head_relu_{i+1}'\n",
    "\n",
    "                #  Each feature level has its own batch norm layer.\n",
    "                #  Unlike the conv2d layers, this is not shared because\n",
    "                #  the batch statistics are not the same for each feature level\n",
    "                #  We learn this independently at each feature level.\n",
    "\n",
    "                x = tf.keras.layers.BatchNormalization(name=name_bn)(x)\n",
    "                x = tf.keras.layers.ReLU(name=name_relu)(x)\n",
    "            x = conv_layers[-1](x)\n",
    "            x = tf.keras.layers.Reshape([fh * fw * 9, self.num_classes],\n",
    "                                        name=feature.name[:2] +\n",
    "                                        '_cls_predictions_reshape')(x)\n",
    "            cls_predictions.append(x)\n",
    "        cls_predictions = tf.keras.layers.Concatenate(\n",
    "            axis=1, name='cls_head_predictions')(cls_predictions)\n",
    "        return cls_predictions\n",
    "\n",
    "    def _build_retinanet(self):\n",
    "\n",
    "        def add_l2_regularization(layer):\n",
    "            '''returns callable, to be called by model.get_losses'''\n",
    "            l2_reg = tf.keras.regularizers.l2(self.l2_regularization)\n",
    "\n",
    "            def _add_l2_regularization():\n",
    "                return l2_reg(layer.kernel)\n",
    "            return _add_l2_regularization\n",
    "\n",
    "        backbone, features = build_backbone(self.input_height,\n",
    "                                            self.input_width)\n",
    "        feature_pyramid = get_feature_pyramid(features)\n",
    "\n",
    "        box_predictions = self._build_box_head(feature_pyramid)\n",
    "        classification_predictions = self._build_cls_head(feature_pyramid)\n",
    "\n",
    "        predictions = tf.keras.layers.Concatenate(axis=-1,\n",
    "                                                  name='predictions')([\n",
    "                                                      box_predictions,\n",
    "                                                      classification_predictions\n",
    "                                                  ])\n",
    "        model = tf.keras.Model(inputs=[backbone.input], outputs=[predictions])\n",
    "\n",
    "        # Adding l2 regularization using add_loss function\n",
    "        if self.l2_regularization:\n",
    "            for layer in model.layers:\n",
    "                if isinstance(layer, tf.keras.layers.Conv2D):\n",
    "                    if hasattr(layer, 'kernel'):\n",
    "                        layer.add_loss(add_l2_regularization(layer))\n",
    "        return model"
   ]
  },
  {
   "cell_type": "code",
   "execution_count": null,
   "metadata": {
    "colab": {},
    "colab_type": "code",
    "id": "afavERp8tJUr"
   },
   "outputs": [],
   "source": [
    "config = EasyDict({\n",
    "    'image_height': 640,\n",
    "    'image_width': 640,\n",
    "\n",
    "    'num_classes': 2,\n",
    "    'classes': ['circle', 'rectangle'],\n",
    "\n",
    "    # If running with TPUs make sure you store your tfrecords on a google storage bucket\n",
    "    'tfrecords': {\n",
    "        'train': './tfrecords/train*',\n",
    "        'validation': './tfrecords/val*',\n",
    "    },\n",
    "    'num_train_samples': 10000,\n",
    "    'num_val_samples': 2500,\n",
    "    \n",
    "    'box_variance': [0.1, 0.1, 0.2, 0.2],\n",
    "    'match_iou_threshold': 0.5,\n",
    "    'ignore_iou_threshold': 0.4,\n",
    "    'anchor_areas': [32.0**2, 64.0**2, 128.0**2, 256.0**2, 512.0**2],\n",
    "    'anchor_aspect_ratios': [1/2, 1.0, 2.0],\n",
    "    'anchor_scales': [2**0, 2**(1 / 3), 2**(2 / 3)],\n",
    "\n",
    "    'cache_dataset_in_memory': True,\n",
    "    'mean_pixel': [103.939, 116.779, 123.68],\n",
    "\n",
    "    'batch_size': 4,\n",
    "    'scale_batch_size': True,\n",
    "    'train_steps': 2500,\n",
    "    \n",
    "    'l2_regularization': 1e-4,\n",
    "\n",
    "    'decay_learning_rate': False,\n",
    "    'base_learning_rate': 0.001,\n",
    "    'learning_rates': [0.001, 0.0005],\n",
    "    'learning_boundaries': [1250],\n",
    "    'momentum': 0.9,\n",
    "\n",
    "    'confidence_threshold': 0.5,\n",
    "    'top_k_boxes': 1000,\n",
    "    'nms_iou_threshold': 0.5,\n",
    "    'max_detections': 100,\n",
    "    \n",
    "    'augmentation': {\n",
    "        'flip_lr': True\n",
    "    },\n",
    "    \n",
    "    # If running with TPUs make sure you store your model files on a google storage bucket\n",
    "    'model_dir': './model_files'\n",
    "})"
   ]
  },
  {
   "cell_type": "code",
   "execution_count": null,
   "metadata": {
    "colab": {},
    "colab_type": "code",
    "id": "DObRySGetJUt"
   },
   "outputs": [],
   "source": [
    "# Linearly scale the batch size to account for multiple replicas \n",
    "if config.scale_batch_size:\n",
    "    config.batch_size *= strategy.num_replicas_in_sync\n",
    "\n",
    "with strategy.scope():\n",
    "    train_dataset = DatasetBuilder('train', config)\n",
    "    val_dataset = DatasetBuilder('validation', config)"
   ]
  },
  {
   "cell_type": "code",
   "execution_count": null,
   "metadata": {
    "colab": {},
    "colab_type": "code",
    "id": "XKPOOCbMtJUu"
   },
   "outputs": [],
   "source": [
    "for batch in val_dataset.dataset.take(1):\n",
    "    images = (batch[0] + config.mean_pixel)[:, :, :, ::-1]\n",
    "    labels = batch[1]\n",
    "    reg_labels, cls_labels = labels[:, :, :4], labels[:, :, 4]\n",
    "    positive_mask = tf.cast(tf.greater(cls_labels, -1.0), dtype=tf.float32)[0]\n",
    "    ignore_mask = tf.cast(tf.equal(cls_labels, -2.0), dtype=tf.float32)[0]\n",
    "    cls_labels = tf.one_hot(tf.cast(cls_labels, dtype=tf.int32),\n",
    "                            depth=config.num_classes,\n",
    "                            dtype=tf.float32)\n",
    "    labels = tf.concat([reg_labels, cls_labels], axis=-1)"
   ]
  },
  {
   "cell_type": "markdown",
   "metadata": {
    "colab_type": "text",
    "id": "Tu_XpK4ztJUw"
   },
   "source": [
    "#### Visualizing matched anchor boxes\n",
    "Making sure the target encoding works as expected"
   ]
  },
  {
   "cell_type": "code",
   "execution_count": 20,
   "metadata": {
    "colab": {
     "base_uri": "https://localhost:8080/",
     "height": 428
    },
    "colab_type": "code",
    "id": "8Ecj4xgEtJUw",
    "outputId": "ffca7a70-3fbd-490a-8722-6ec750ecb175"
   },
   "outputs": [
    {
     "data": {
      "image/png": "[encoded data removed]",
      "text/plain": [
       "<Figure size 504x504 with 1 Axes>"
      ]
     },
     "metadata": {
      "needs_background": "light",
      "tags": []
     },
     "output_type": "display_data"
    },
    {
     "name": "stdout",
     "output_type": "stream",
     "text": [
      "INFO:tensorflow:Positive anchors: 166\n"
     ]
    }
   ],
   "source": [
    "matched_anchor_boxes = convert_to_corners(tf.gather(val_dataset._label_encoder._anchor_boxes,\n",
    "                                 tf.where(tf.equal(positive_mask, 1.0))[:, 0]))\n",
    "num_positive_anchors = tf.math.count_nonzero(positive_mask)\n",
    "fig = visualize_detections(images[0], matched_anchor_boxes)\n",
    "logger.info('Positive anchors: {}'.format(num_positive_anchors))"
   ]
  },
  {
   "cell_type": "markdown",
   "metadata": {
    "colab_type": "text",
    "id": "jPTcbty1tJUy"
   },
   "source": [
    "### Visualizing decoded boxes\n",
    "Making sure the DecodePredictions layer works as expected"
   ]
  },
  {
   "cell_type": "code",
   "execution_count": 21,
   "metadata": {
    "colab": {
     "base_uri": "https://localhost:8080/",
     "height": 411
    },
    "colab_type": "code",
    "id": "rjckVKestJUz",
    "outputId": "0c121048-d684-4e49-9962-d557af486982"
   },
   "outputs": [
    {
     "data": {
      "image/png": "[encoded data removed]",
      "text/plain": [
       "<Figure size 504x504 with 1 Axes>"
      ]
     },
     "metadata": {
      "needs_background": "light",
      "tags": []
     },
     "output_type": "display_data"
    }
   ],
   "source": [
    "detections = DecodePredictions(config, from_logits=False)(labels)\n",
    "classes = [config['classes'][idx] for idx in detections['cls_ids'].numpy()]\n",
    "fig = visualize_detections(images[0], detections['boxes'], classes, detections['cls_probs'].numpy())"
   ]
  },
  {
   "cell_type": "code",
   "execution_count": null,
   "metadata": {
    "colab": {},
    "colab_type": "code",
    "id": "XzO-5ROItJU0"
   },
   "outputs": [],
   "source": [
    "def get_optimizer(config):\n",
    "    momentum = config.momentum\n",
    "    if config.decay_learning_rate:\n",
    "        learning_rate = \\\n",
    "        tf.optimizers.schedules.PiecewiseConstantDecay(boundaries=config.learning_boundaries,\n",
    "                                                       learning_rates=config.learning_rates)\n",
    "    else:\n",
    "        learning_rate = config.base_learning_rate\n",
    "    return tf.optimizers.SGD(learning_rate=learning_rate, momentum=momentum)"
   ]
  },
  {
   "cell_type": "code",
   "execution_count": null,
   "metadata": {
    "colab": {},
    "colab_type": "code",
    "id": "2HGxptyktJU3"
   },
   "outputs": [],
   "source": [
    "train_steps_per_epoch = config.num_train_samples // config.batch_size\n",
    "val_steps_per_epoch = config.num_val_samples // config.batch_size\n",
    "\n",
    "epochs = config.train_steps // train_steps_per_epoch"
   ]
  },
  {
   "cell_type": "code",
   "execution_count": null,
   "metadata": {
    "colab": {},
    "colab_type": "code",
    "id": "q1dhUqR6tJU5"
   },
   "outputs": [],
   "source": [
    "with strategy.scope():\n",
    "    callbacks_list = [\n",
    "        tf.keras.callbacks.TensorBoard(\n",
    "            log_dir=os.path.join(config.model_dir, 'tensorboard')),\n",
    "        tf.keras.callbacks.ModelCheckpoint(filepath=os.path.join(\n",
    "            config.model_dir,\n",
    "            'best_weights/retinanet_weights' + '_epoch_{epoch}'),\n",
    "                                           monitor='val_total_loss',\n",
    "                                           save_best_only=True,\n",
    "                                           save_weights_only=True,\n",
    "                                           verbose=1)\n",
    "    ]\n",
    "\n",
    "    model = RetinaNet(config)\n",
    "    loss_fn = RetinaNetLoss(num_classes=2, alpha=0.25, gamma=2.0, delta=1.0)\n",
    "    optimizer = get_optimizer(config)\n",
    "    model.compile(loss_fn=loss_fn, optimizer=optimizer)"
   ]
  },
  {
   "cell_type": "code",
   "execution_count": 25,
   "metadata": {
    "colab": {
     "base_uri": "https://localhost:8080/",
     "height": 104
    },
    "colab_type": "code",
    "id": "FsXRIrdqtJU6",
    "outputId": "1ca59470-8396-41a7-81b3-3ad0e7e1b08f"
   },
   "outputs": [
    {
     "name": "stdout",
     "output_type": "stream",
     "text": [
      "2500/2500 [==============================] - ETA: 0s - total_loss: 0.1259 - cls_loss: 0.0341 - box_loss: 0.0918 - regularization_losses: 0.0145\n",
      "Epoch 00001: val_total_loss improved from inf to 0.01567, saving model to ./model_files/best_weights/retinanet_weights_epoch_1\n",
      "2500/2500 [==============================] - 1606s 643ms/step - total_loss: 0.1259 - cls_loss: 0.0341 - box_loss: 0.0918 - regularization_losses: 0.0145 - val_total_loss: 0.0157 - val_cls_loss: 0.0030 - val_box_loss: 0.0127\n"
     ]
    },
    {
     "data": {
      "text/plain": [
       "<tensorflow.python.keras.callbacks.History at 0x7f4084030da0>"
      ]
     },
     "execution_count": 25,
     "metadata": {
      "tags": []
     },
     "output_type": "execute_result"
    }
   ],
   "source": [
    "model.fit(\n",
    "    train_dataset.dataset,\n",
    "    steps_per_epoch=train_steps_per_epoch,\n",
    "    validation_data=val_dataset.dataset,\n",
    "    validation_steps=val_steps_per_epoch,\n",
    "    epochs=epochs,\n",
    "    callbacks=callbacks_list,\n",
    "    verbose=1,\n",
    ")"
   ]
  },
  {
   "cell_type": "markdown",
   "metadata": {
    "colab_type": "text",
    "id": "DroKjA7rtJU8"
   },
   "source": [
    "#### Exporting to `saved_model`"
   ]
  },
  {
   "cell_type": "code",
   "execution_count": 27,
   "metadata": {
    "colab": {
     "base_uri": "https://localhost:8080/",
     "height": 104
    },
    "colab_type": "code",
    "id": "2jhBV536tJU8",
    "outputId": "3405d379-77b2-451c-92b7-75b268177891"
   },
   "outputs": [
    {
     "name": "stdout",
     "output_type": "stream",
     "text": [
      "WARNING:tensorflow:From /usr/local/lib/python3.6/dist-packages/tensorflow/python/ops/resource_variable_ops.py:1817: calling BaseResourceVariable.__init__ (from tensorflow.python.ops.resource_variable_ops) with constraint is deprecated and will be removed in a future version.\n",
      "Instructions for updating:\n",
      "If using Keras pass *_constraint arguments to layers.\n",
      "INFO:tensorflow:Assets written to: ./model_files/v1/assets\n"
     ]
    }
   ],
   "source": [
    "input_spec = tf.TensorSpec(\n",
    "    shape=[1, config.image_height, config.image_width, 3],\n",
    "    dtype=tf.float32,\n",
    "    name='image')\n",
    "\n",
    "signatures = {\n",
    "    'serving_default': model.get_detections.get_concrete_function(input_spec)\n",
    "}\n",
    "model.save(os.path.join(config.model_dir, 'v1'), signatures=signatures)"
   ]
  },
  {
   "cell_type": "markdown",
   "metadata": {
    "colab_type": "text",
    "id": "MtG8x4HvtJU-"
   },
   "source": [
    "#### Loading the `saved_model`"
   ]
  },
  {
   "cell_type": "code",
   "execution_count": null,
   "metadata": {
    "colab": {},
    "colab_type": "code",
    "id": "yQOLF9NttJU-"
   },
   "outputs": [],
   "source": [
    "loaded_model = tf.saved_model.load(os.path.join(config.model_dir, 'v1'))\n",
    "serving_fn = loaded_model.signatures['serving_default']"
   ]
  },
  {
   "cell_type": "markdown",
   "metadata": {
    "colab_type": "text",
    "id": "THT1cg8gtJVA"
   },
   "source": [
    "#### Running inference with `saved_model`"
   ]
  },
  {
   "cell_type": "code",
   "execution_count": 29,
   "metadata": {
    "colab": {
     "base_uri": "https://localhost:8080/",
     "height": 1000
    },
    "colab_type": "code",
    "id": "8SG-oQEftJVA",
    "outputId": "d283e900-551d-435e-80f7-07e920371bbe"
   },
   "outputs": [
    {
     "data": {
      "image/png": "[encoded data removed]",
      "text/plain": [
       "<Figure size 504x504 with 1 Axes>"
      ]
     },
     "metadata": {
      "needs_background": "light",
      "tags": []
     },
     "output_type": "display_data"
    },
    {
     "data": {
      "image/png": "[encoded data removed]",
      "text/plain": [
       "<Figure size 504x504 with 1 Axes>"
      ]
     },
     "metadata": {
      "needs_background": "light",
      "tags": []
     },
     "output_type": "display_data"
    },
    {
     "data": {
      "image/png": "[encoded data removed]",
      "text/plain": [
       "<Figure size 504x504 with 1 Axes>"
      ]
     },
     "metadata": {
      "needs_background": "light",
      "tags": []
     },
     "output_type": "display_data"
    },
    {
     "data": {
      "image/png": "[encoded data removed]",
      "text/plain": [
       "<Figure size 504x504 with 1 Axes>"
      ]
     },
     "metadata": {
      "needs_background": "light",
      "tags": []
     },
     "output_type": "display_data"
    }
   ],
   "source": [
    "for images, _ in val_dataset.dataset.take(1):\n",
    "    for i in range(images.shape[0]):\n",
    "        image = images[i][None, ...]\n",
    "        detections = serving_fn(image)\n",
    "        classes = [config.classes[idx] for idx in detections['cls_ids'].numpy()]\n",
    "        image = (image[0] + config.mean_pixel)[:, :, ::-1]\n",
    "        fig = visualize_detections(image,\n",
    "                                   detections['boxes'],\n",
    "                                   classes,\n",
    "                                   detections['cls_probs'].numpy())"
   ]
  },
  {
   "cell_type": "code",
   "execution_count": null,
   "metadata": {
    "colab": {},
    "colab_type": "code",
    "id": "0koYHCFntJVC"
   },
   "outputs": [],
   "source": []
  }
 ],
 "metadata": {
  "accelerator": "GPU",
  "colab": {
   "include_colab_link": true,
   "name": "retinanet.ipynb",
   "provenance": []
  },
  "kernelspec": {
   "display_name": "Python 3",
   "language": "python",
   "name": "python3"
  },
  "language_info": {
   "codemirror_mode": {
    "name": "ipython",
    "version": 3
   },
   "file_extension": ".py",
   "mimetype": "text/x-python",
   "name": "python",
   "nbconvert_exporter": "python",
   "pygments_lexer": "ipython3",
   "version": "3.7.6"
  }
 },
 "nbformat": 4,
 "nbformat_minor": 4
}
