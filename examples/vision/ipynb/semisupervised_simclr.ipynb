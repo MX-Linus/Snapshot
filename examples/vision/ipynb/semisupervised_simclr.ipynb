{
 "cells": [
  {
   "cell_type": "markdown",
   "metadata": {
    "colab_type": "text"
   },
   "source": [
    "# [KerasCV] Semi-supervised image classification using contrastive pretraining with SimCLR\n",
    "\n",
    "**Author:** [Andr\u00e1s B\u00e9res](https://www.linkedin.com/in/andras-beres-789190210), updated by [Aritra Roy Gosthipaty](https://twitter.com/ariG23498)<br>\n",
    "**Date created:** 2021/04/24<br>\n",
    "**Last modified:** 2023/07/06<br>\n",
    "**Description:** Contrastive pretraining with SimCLR for semi-supervised image classification on the STL-10 dataset."
   ]
  },
  {
   "cell_type": "markdown",
   "metadata": {
    "colab_type": "text"
   },
   "source": [
    "## Introduction\n",
    "\n",
    "### Semi-supervised learning\n",
    "\n",
    "Semi-supervised learning is a machine learning paradigm that deals with\n",
    "**partially labeled datasets**. When applying deep learning in the real world,\n",
    "one usually has to gather a large dataset to make it work well. However, while\n",
    "the cost of labeling scales linearly with the dataset size (labeling each\n",
    "example takes a constant time), model performance only scales\n",
    "[sublinearly](https://arxiv.org/abs/2001.08361) with it. This means that\n",
    "labeling more and more samples becomes less and less cost-efficient, while\n",
    "gathering unlabeled data is generally cheap, as it is usually readily available\n",
    "in large quantities.\n",
    "\n",
    "Semi-supervised learning offers to solve this problem by only requiring a\n",
    "partially labeled dataset, and by being label-efficient by utilizing the\n",
    "unlabeled examples for learning as well.\n",
    "\n",
    "In this example, we will pretrain an encoder with contrastive learning on the\n",
    "[STL-10](https://ai.stanford.edu/~acoates/stl10/) semi-supervised dataset using\n",
    "no labels at all, and then fine-tune it using only its labeled subset.\n",
    "\n",
    "### Contrastive learning\n",
    "\n",
    "On the highest level, the main idea behind contrastive learning is to **learn\n",
    "representations that are invariant to image augmentations** in a self-supervised\n",
    "manner. One problem with this objective is that it has a trivial degenerate\n",
    "solution: the case where the representations are constant, and do not depend at all on the\n",
    "input images.\n",
    "\n",
    "Contrastive learning avoids this trap by modifying the objective in the\n",
    "following way: it pulls representations of augmented versions/views of the same\n",
    "image closer to each other (contracting positives), while simultaneously pushing\n",
    "different images away from each other (contrasting negatives) in representation\n",
    "space.\n",
    "\n",
    "One such contrastive approach is [SimCLR](https://arxiv.org/abs/2002.05709),\n",
    "which essentially identifies the core components needed to optimize this\n",
    "objective, and can achieve high performance by scaling this simple approach.\n",
    "\n",
    "Another approach is [SimSiam](https://arxiv.org/abs/2011.10566)\n",
    "([Keras example](https://keras.io/examples/vision/simsiam/)),\n",
    "whose main difference from\n",
    "SimCLR is that the former does not use any negatives in its loss. Therefore, it does not\n",
    "explicitly prevent the trivial solution, and, instead, avoids it implicitly by\n",
    "architecture design (asymmetric encoding paths using a predictor network and\n",
    "batch normalization (BatchNorm) are applied in the final layers).\n",
    "\n",
    "For further reading about SimCLR, check out\n",
    "[the official Google AI blog post](https://ai.googleblog.com/2020/04/advancing-self-supervised-and-semi.html),\n",
    "and for an overview of self-supervised learning across both vision and language\n",
    "check out\n",
    "[this blog post](https://ai.facebook.com/blog/self-supervised-learning-the-dark-matter-of-intelligence/)."
   ]
  },
  {
   "cell_type": "markdown",
   "metadata": {
    "colab_type": "text"
   },
   "source": [
    "## Setup\n",
    "\n",
    "For this tutorial we will need [KerasCV](https://keras.io/keras_cv/) which can be installed with the following command:\n",
    "`pip install keras-cv`"
   ]
  },
  {
   "cell_type": "code",
   "execution_count": 0,
   "metadata": {
    "colab_type": "code"
   },
   "outputs": [],
   "source": [
    "import keras\n",
    "import keras_cv\n",
    "import tensorflow as tf\n",
    "import tensorflow_datasets as tfds\n",
    "from matplotlib import pyplot as plt\n",
    "\n",
    "tfds.disable_progress_bar()"
   ]
  },
  {
   "cell_type": "markdown",
   "metadata": {
    "colab_type": "text"
   },
   "source": [
    "## Hyperparameter setup\n",
    "\n",
    "Please feel free to change the hyperparameters and train the model. Here we make the following choices\n",
    "due to hardware restrictions and good training logs."
   ]
  },
  {
   "cell_type": "code",
   "execution_count": 0,
   "metadata": {
    "colab_type": "code"
   },
   "outputs": [],
   "source": [
    "# Dataset hyperparameters\n",
    "IMAGE_SIZE = 96\n",
    "IMAGE_CHANNELS = 3\n",
    "NUM_CLASSES = 10\n",
    "\n",
    "# Algorithm hyperparameter\n",
    "UNLABELED_BATCH_SIZE = 1024\n",
    "LABELED_BATCH_SIZE = 128\n",
    "TEST_BATCH_SIZE = 128\n",
    "PROJECTION_WIDTH = 128\n",
    "TEMPERATURE = 0.1\n",
    "\n",
    "# Stronger augmentations for contrastive\n",
    "CONTRASTIVE_AUGMENTATION = {\n",
    "    \"crop_area_factor\": (0.08, 1.0),\n",
    "    \"aspect_ratio_factor\": (3 / 4, 4 / 3),\n",
    "    \"color_jitter_rate\": 0.8,\n",
    "    \"brightness_factor\": 0.2,\n",
    "    \"contrast_factor\": 0.8,\n",
    "    \"saturation_factor\": (0.3, 0.7),\n",
    "    \"hue_factor\": 0.2,\n",
    "}\n",
    "\n",
    "# Weaker ones for supervised training\n",
    "CLASSIFICATION_AUGMENTATION = {\n",
    "    \"crop_area_factor\": (0.8, 1.0),\n",
    "    \"aspect_ratio_factor\": (3 / 4, 4 / 3),\n",
    "    \"color_jitter_rate\": 0.05,\n",
    "    \"brightness_factor\": 0.1,\n",
    "    \"contrast_factor\": 0.1,\n",
    "    \"saturation_factor\": (0.1, 0.1),\n",
    "    \"hue_factor\": 0.2,\n",
    "}\n",
    "\n",
    "AUTOTUNE = tf.data.AUTOTUNE"
   ]
  },
  {
   "cell_type": "markdown",
   "metadata": {
    "colab_type": "text"
   },
   "source": [
    "## Dataset\n",
    "\n",
    "The dataset has three splits:\n",
    "- Training Unlabelled: This dataset is used to train the encoder in the contrastive setting.\n",
    "- Training Lablelled: This dataset is used to train the baseline encoder (supervised) and also\n",
    "    fine tune the pre-trained encoder.\n",
    "- Testing Labelled: This dataset is used to evaluate the models."
   ]
  },
  {
   "cell_type": "code",
   "execution_count": 0,
   "metadata": {
    "colab_type": "code"
   },
   "outputs": [],
   "source": [
    "\n",
    "def prepare_dataset():\n",
    "    unlabeled_train_dataset = (\n",
    "        tfds.load(\"stl10\", data_dir=\"dataset\", split=\"unlabelled\", as_supervised=True)\n",
    "        .map(lambda image, _: image, num_parallel_calls=AUTOTUNE)\n",
    "        .shuffle(buffer_size=2 * UNLABELED_BATCH_SIZE)\n",
    "        .batch(UNLABELED_BATCH_SIZE, num_parallel_calls=AUTOTUNE)\n",
    "        .prefetch(AUTOTUNE)\n",
    "    )\n",
    "    labeled_train_dataset = (\n",
    "        tfds.load(\"stl10\", data_dir=\"dataset\", split=\"train\", as_supervised=True)\n",
    "        .shuffle(buffer_size=10 * LABELED_BATCH_SIZE)\n",
    "        .batch(LABELED_BATCH_SIZE, num_parallel_calls=AUTOTUNE)\n",
    "        .prefetch(AUTOTUNE)\n",
    "    )\n",
    "    test_dataset = (\n",
    "        tfds.load(\"stl10\", data_dir=\"dataset\", split=\"test\", as_supervised=True)\n",
    "        .batch(TEST_BATCH_SIZE, num_parallel_calls=AUTOTUNE)\n",
    "        .prefetch(AUTOTUNE)\n",
    "    )\n",
    "\n",
    "    return unlabeled_train_dataset, labeled_train_dataset, test_dataset\n",
    "\n",
    "\n",
    "# Load STL10 dataset\n",
    "unlabeled_train_dataset, labeled_train_dataset, test_dataset = prepare_dataset()"
   ]
  },
  {
   "cell_type": "markdown",
   "metadata": {
    "colab_type": "text"
   },
   "source": [
    "## Image augmentations\n",
    "\n",
    "The two most important image augmentations for contrastive learning are the\n",
    "following:\n",
    "\n",
    "- **Cropping**: forces the model to encode different parts of the same image\n",
    "similarly.\n",
    "- **Color jitter**: prevents a trivial color histogram-based solution to the task by\n",
    "distorting color histograms. A principled way to implement that is by affine\n",
    "transformations in color space.\n",
    "\n",
    "Stronger augmentations are applied for contrastive learning, along with weaker\n",
    "ones for supervised classification to avoid overfitting on the few labeled examples.\n",
    "\n",
    "We implement the augmentations using the KerasCV library."
   ]
  },
  {
   "cell_type": "code",
   "execution_count": 0,
   "metadata": {
    "colab_type": "code"
   },
   "outputs": [],
   "source": [
    "\n",
    "def get_augmenter(\n",
    "    crop_area_factor,\n",
    "    aspect_ratio_factor,\n",
    "    color_jitter_rate,\n",
    "    brightness_factor,\n",
    "    contrast_factor,\n",
    "    saturation_factor,\n",
    "    hue_factor,\n",
    "):\n",
    "    return keras.Sequential(\n",
    "        [\n",
    "            keras.Input(shape=(IMAGE_SIZE, IMAGE_SIZE, IMAGE_CHANNELS)),\n",
    "            keras_cv.layers.Rescaling(scale=1.0 / 255),\n",
    "            keras_cv.layers.RandomFlip(\"horizontal\"),\n",
    "            keras_cv.layers.RandomCropAndResize(\n",
    "                target_size=(IMAGE_SIZE, IMAGE_SIZE),\n",
    "                crop_area_factor=crop_area_factor,\n",
    "                aspect_ratio_factor=aspect_ratio_factor,\n",
    "            ),\n",
    "            keras_cv.layers.RandomApply(\n",
    "                keras_cv.layers.RandomColorJitter(\n",
    "                    value_range=(0, 1),\n",
    "                    brightness_factor=brightness_factor,\n",
    "                    contrast_factor=contrast_factor,\n",
    "                    saturation_factor=saturation_factor,\n",
    "                    hue_factor=hue_factor,\n",
    "                ),\n",
    "                rate=color_jitter_rate,\n",
    "            ),\n",
    "        ]\n",
    "    )\n",
    ""
   ]
  },
  {
   "cell_type": "markdown",
   "metadata": {
    "colab_type": "text"
   },
   "source": [
    "## Visualize the dataset\n",
    "\n",
    "Let's first visualize the original dataset."
   ]
  },
  {
   "cell_type": "code",
   "execution_count": 0,
   "metadata": {
    "colab_type": "code"
   },
   "outputs": [],
   "source": [
    "# Original Images\n",
    "unlabeled_images = next(iter(unlabeled_train_dataset))\n",
    "keras_cv.visualization.plot_image_gallery(\n",
    "    images=unlabeled_images,\n",
    "    value_range=(0, 255),\n",
    "    rows=3,\n",
    "    cols=3,\n",
    ")"
   ]
  },
  {
   "cell_type": "markdown",
   "metadata": {
    "colab_type": "text"
   },
   "source": [
    "Using the contrastive augmentation pipleine we notice how\n",
    "the dataset has changed."
   ]
  },
  {
   "cell_type": "code",
   "execution_count": 0,
   "metadata": {
    "colab_type": "code"
   },
   "outputs": [],
   "source": [
    "# Contrastive Augmentations\n",
    "contrastive_augmenter = get_augmenter(**CONTRASTIVE_AUGMENTATION)\n",
    "augmented_images = contrastive_augmenter(unlabeled_images)\n",
    "keras_cv.visualization.plot_image_gallery(\n",
    "    images=augmented_images,\n",
    "    value_range=(0, 1),\n",
    "    rows=3,\n",
    "    cols=3,\n",
    ")"
   ]
  },
  {
   "cell_type": "markdown",
   "metadata": {
    "colab_type": "text"
   },
   "source": [
    "Let's now apply the classification augmentation pipeline on the\n",
    "dataset."
   ]
  },
  {
   "cell_type": "code",
   "execution_count": 0,
   "metadata": {
    "colab_type": "code"
   },
   "outputs": [],
   "source": [
    "# Classification Augmentations\n",
    "classification_augmenter = get_augmenter(**CLASSIFICATION_AUGMENTATION)\n",
    "augmented_images = classification_augmenter(unlabeled_images)\n",
    "keras_cv.visualization.plot_image_gallery(\n",
    "    images=augmented_images,\n",
    "    value_range=(0, 1),\n",
    "    rows=3,\n",
    "    cols=3,\n",
    ")"
   ]
  },
  {
   "cell_type": "markdown",
   "metadata": {
    "colab_type": "text"
   },
   "source": [
    "## Encoder architecture\n",
    "\n",
    "We use the `ResNet18Backbone` from the KerasCV library. Try out different\n",
    "backbones and check whether any model trains better in this paradigm. Also\n",
    "try to reason out why that happened."
   ]
  },
  {
   "cell_type": "code",
   "execution_count": 0,
   "metadata": {
    "colab_type": "code"
   },
   "outputs": [],
   "source": [
    "\n",
    "# Define the encoder architecture\n",
    "def get_encoder():\n",
    "    return keras.Sequential(\n",
    "        [\n",
    "            keras.Input(shape=(IMAGE_SIZE, IMAGE_SIZE, IMAGE_CHANNELS)),\n",
    "            keras_cv.models.ResNet18Backbone(include_rescaling=False),\n",
    "            keras.layers.GlobalAveragePooling2D(name=\"avg_pool\"),\n",
    "        ],\n",
    "        name=\"encoder\",\n",
    "    )\n",
    ""
   ]
  },
  {
   "cell_type": "markdown",
   "metadata": {
    "colab_type": "text"
   },
   "source": [
    "## Supervised baseline model\n",
    "\n",
    "A baseline supervised model is trained using random initialization."
   ]
  },
  {
   "cell_type": "code",
   "execution_count": 0,
   "metadata": {
    "colab_type": "code"
   },
   "outputs": [],
   "source": [
    "# Baseline supervised training with random initialization\n",
    "baseline_model = keras.Sequential(\n",
    "    [\n",
    "        keras.Input(shape=(IMAGE_SIZE, IMAGE_SIZE, IMAGE_CHANNELS)),\n",
    "        get_augmenter(**CLASSIFICATION_AUGMENTATION),\n",
    "        get_encoder(),\n",
    "        keras.layers.Dense(NUM_CLASSES),\n",
    "    ],\n",
    "    name=\"baseline_model\",\n",
    ")\n",
    "baseline_model.compile(\n",
    "    optimizer=keras.optimizers.Adam(),\n",
    "    loss=keras.losses.SparseCategoricalCrossentropy(from_logits=True),\n",
    "    metrics=[keras.metrics.SparseCategoricalAccuracy(name=\"acc\")],\n",
    ")\n",
    "\n",
    "baseline_history = baseline_model.fit(\n",
    "    labeled_train_dataset, epochs=20, validation_data=test_dataset\n",
    ")\n",
    "\n",
    "print(\n",
    "    \"Maximal validation accuracy: {:.2f}%\".format(\n",
    "        max(baseline_history.history[\"val_acc\"]) * 100\n",
    "    )\n",
    ")"
   ]
  },
  {
   "cell_type": "markdown",
   "metadata": {
    "colab_type": "text"
   },
   "source": [
    "## Self-supervised model for contrastive pretraining\n",
    "\n",
    "We pretrain an encoder on unlabeled images with a contrastive loss.\n",
    "A nonlinear projection head is attached to the top of the encoder, as it\n",
    "improves the quality of representations of the encoder.\n",
    "\n",
    "We use the InfoNCE/NT-Xent/N-pairs loss (KerasCV already has this implemented as the `SimCLRLoss`),\n",
    "which can be interpreted in the following way:\n",
    "\n",
    "1. We treat each image in the batch as if it had its own class.\n",
    "2. Then, we have two examples (a pair of augmented views) for each \"class\".\n",
    "3. Each view's representation is compared to every possible pair's one (for both\n",
    "  augmented versions).\n",
    "4. We use the temperature-scaled cosine similarity of compared representations as\n",
    "  logits.\n",
    "5. Finally, we use categorical cross-entropy as the \"classification\" loss\n",
    "\n",
    "We subclass the `ContrastiveTrainer` from the KerasCV library to build the `SimCLRTrainer`."
   ]
  },
  {
   "cell_type": "code",
   "execution_count": 0,
   "metadata": {
    "colab_type": "code"
   },
   "outputs": [],
   "source": [
    "\n",
    "class SimCLRTrainer(keras_cv.training.ContrastiveTrainer):\n",
    "    def __init__(self, encoder, augmenter, projector, probe=None, **kwargs):\n",
    "        super().__init__(\n",
    "            encoder=encoder,\n",
    "            augmenter=augmenter,\n",
    "            projector=projector,\n",
    "            probe=probe,\n",
    "            **kwargs,\n",
    "        )\n",
    "\n",
    "\n",
    "simclr_model = SimCLRTrainer(\n",
    "    encoder=get_encoder(),\n",
    "    augmenter=get_augmenter(**CONTRASTIVE_AUGMENTATION),\n",
    "    projector=keras.Sequential(\n",
    "        [\n",
    "            keras.layers.Dense(PROJECTION_WIDTH, activation=\"relu\"),\n",
    "            keras.layers.Dense(PROJECTION_WIDTH),\n",
    "            keras.layers.BatchNormalization(),\n",
    "        ],\n",
    "        name=\"projector\",\n",
    "    ),\n",
    ")\n",
    "\n",
    "simclr_model.compile(\n",
    "    encoder_optimizer=keras.optimizers.Adam(),\n",
    "    encoder_loss=keras_cv.losses.SimCLRLoss(\n",
    "        temperature=TEMPERATURE,\n",
    "    ),\n",
    ")\n",
    "\n",
    "simclr_history = simclr_model.fit(\n",
    "    unlabeled_train_dataset,\n",
    "    epochs=20,\n",
    ")"
   ]
  },
  {
   "cell_type": "markdown",
   "metadata": {
    "colab_type": "text"
   },
   "source": [
    "## Supervised finetuning of the pretrained encoder\n",
    "\n",
    "We then finetune the encoder on the labeled examples, by attaching\n",
    "a single randomly initalized fully connected classification layer on its top."
   ]
  },
  {
   "cell_type": "code",
   "execution_count": 0,
   "metadata": {
    "colab_type": "code"
   },
   "outputs": [],
   "source": [
    "# Supervised finetuning of the pretrained encoder\n",
    "finetune_model = keras.Sequential(\n",
    "    [\n",
    "        keras.Input(shape=(IMAGE_SIZE, IMAGE_SIZE, IMAGE_CHANNELS)),\n",
    "        get_augmenter(**CLASSIFICATION_AUGMENTATION),\n",
    "        simclr_model.encoder,\n",
    "        keras.layers.Dense(NUM_CLASSES),\n",
    "    ],\n",
    "    name=\"finetuning_model\",\n",
    ")\n",
    "finetune_model.compile(\n",
    "    optimizer=keras.optimizers.Adam(),\n",
    "    loss=keras.losses.SparseCategoricalCrossentropy(from_logits=True),\n",
    "    metrics=[keras.metrics.SparseCategoricalAccuracy(name=\"acc\")],\n",
    ")\n",
    "\n",
    "finetune_history = finetune_model.fit(\n",
    "    labeled_train_dataset, epochs=20, validation_data=test_dataset\n",
    ")\n",
    "\n",
    "print(\n",
    "    \"Maximal validation accuracy: {:.2f}%\".format(\n",
    "        max(finetune_history.history[\"val_acc\"]) * 100\n",
    "    )\n",
    ")"
   ]
  },
  {
   "cell_type": "markdown",
   "metadata": {
    "colab_type": "text"
   },
   "source": [
    "## Comparison against the baseline"
   ]
  },
  {
   "cell_type": "code",
   "execution_count": 0,
   "metadata": {
    "colab_type": "code"
   },
   "outputs": [],
   "source": [
    "\n",
    "# The classification accuracies of the baseline and finetuning process:\n",
    "def plot_training_curves(baseline_history, finetune_history):\n",
    "    for metric_key, metric_name in zip([\"acc\", \"loss\"], [\"accuracy\", \"loss\"]):\n",
    "        plt.figure(figsize=(8, 5), dpi=100)\n",
    "        plt.plot(\n",
    "            baseline_history.history[f\"val_{metric_key}\"], label=\"supervised baseline\"\n",
    "        )\n",
    "        plt.plot(\n",
    "            finetune_history.history[f\"val_{metric_key}\"],\n",
    "            label=\"supervised finetuning\",\n",
    "        )\n",
    "        plt.legend()\n",
    "        plt.title(f\"Classification {metric_name} during training\")\n",
    "        plt.xlabel(\"epochs\")\n",
    "        plt.ylabel(f\"validation {metric_name}\")\n",
    "\n",
    "\n",
    "plot_training_curves(baseline_history, finetune_history)"
   ]
  },
  {
   "cell_type": "markdown",
   "metadata": {
    "colab_type": "text"
   },
   "source": [
    "By comparing the training curves, we can see that when using contrastive\n",
    "pretraining, a higher validation accuracy can be reached, paired with a lower\n",
    "validation loss, which means that the pretrained network was able to generalize\n",
    "better when seeing only a small amount of labeled examples."
   ]
  },
  {
   "cell_type": "markdown",
   "metadata": {
    "colab_type": "text"
   },
   "source": [
    "## Improving further\n",
    "\n",
    "### Architecture\n",
    "\n",
    "The experiment in the original paper demonstrated that increasing the width and depth of the\n",
    "models improves performance at a higher rate than for supervised learning. Also,\n",
    "using a [ResNet-50](https://keras.io/api/applications/resnet/#resnet50-function)\n",
    "encoder is quite standard in the literature. However keep in mind, that more\n",
    "powerful models will not only increase training time but will also require more\n",
    "memory and will limit the maximal batch size you can use.\n",
    "\n",
    "It has [been](https://arxiv.org/abs/1905.09272)\n",
    "[reported](https://arxiv.org/abs/1911.05722) that the usage of BatchNorm layers\n",
    "could sometimes degrade performance, as it introduces an intra-batch dependency\n",
    "between samples, which is why I did not have used them in this example. In my\n",
    "experiments however, using BatchNorm, especially in the projection head,\n",
    "improves performance.\n",
    "\n",
    "### Hyperparameters\n",
    "\n",
    "The hyperparameters used in this example have been tuned manually for this task and\n",
    "architecture. Therefore, without changing them, only marginal gains can be expected\n",
    "from further hyperparameter tuning.\n",
    "\n",
    "However for a different task or model architecture these would need tuning, so\n",
    "here are my notes on the most important ones:\n",
    "\n",
    "- **Batch size**: since the objective can be interpreted as a classification\n",
    "over a batch of images (loosely speaking), the batch size is actually a more\n",
    "important hyperparameter than usual. The higher, the better.\n",
    "- **Temperature**: the temperature defines the \"softness\" of the softmax\n",
    "distribution that is used in the cross-entropy loss, and is an important\n",
    "hyperparameter. Lower values generally lead to a higher contrastive accuracy.\n",
    "A recent trick (in [ALIGN](https://arxiv.org/abs/2102.05918)) is to learn\n",
    "the temperature's value as well (which can be done by defining it as a\n",
    "tf.Variable, and applying gradients on it). Even though this provides a good baseline\n",
    "value, in my experiments the learned temperature was somewhat lower\n",
    "than optimal, as it is optimized with respect to the contrastive loss, which is not a\n",
    "perfect proxy for representation quality.\n",
    "- **Image augmentation strength**: during pretraining stronger augmentations\n",
    "increase the difficulty of the task, however after a point too strong\n",
    "augmentations will degrade performance. During finetuning stronger\n",
    "augmentations reduce overfitting while in my experience too strong\n",
    "augmentations decrease the performance gains from pretraining. The whole data\n",
    "augmentation pipeline can be seen as an important hyperparameter of the\n",
    "algorithm, implementations of other custom image augmentation layers in Keras\n",
    "can be found in\n",
    "[this repository](https://github.com/beresandras/image-augmentation-layers-keras).\n",
    "- **Learning rate schedule**: a constant schedule is used here, but it is\n",
    "quite common in the literature to use a\n",
    "[cosine decay schedule](https://www.tensorflow.org/api_docs/python/tf/keras/experimental/CosineDecay),\n",
    "which can further improve performance.\n",
    "- **Optimizer**: Adam is used in this example, as it provides good performance\n",
    "with default parameters. SGD with momentum requires more tuning, however it\n",
    "could slightly increase performance."
   ]
  },
  {
   "cell_type": "markdown",
   "metadata": {
    "colab_type": "text"
   },
   "source": [
    "## Related works\n",
    "\n",
    "Other instance-level (image-level) contrastive learning methods:\n",
    "\n",
    "- [MoCo](https://arxiv.org/abs/1911.05722)\n",
    "([v2](https://arxiv.org/abs/2003.04297),\n",
    "[v3](https://arxiv.org/abs/2104.02057)): uses a momentum-encoder as well,\n",
    "whose weights are an exponential moving average of the target encoder\n",
    "- [SwAV](https://arxiv.org/abs/2006.09882): uses clustering instead of pairwise\n",
    "comparison\n",
    "- [BarlowTwins](https://arxiv.org/abs/2103.03230): uses a cross\n",
    "correlation-based objective instead of pairwise comparison\n",
    "\n",
    "Keras implementations of **MoCo** and **BarlowTwins** can be found in\n",
    "[this repository](https://github.com/beresandras/contrastive-classification-keras),\n",
    "which includes a Colab notebook.\n",
    "\n",
    "There is also a new line of works, which optimize a similar objective, but\n",
    "without the use of any negatives:\n",
    "\n",
    "- [BYOL](https://arxiv.org/abs/2006.07733): momentum-encoder + no negatives\n",
    "- [SimSiam](https://arxiv.org/abs/2011.10566)\n",
    "([Keras example](https://keras.io/examples/vision/simsiam/)):\n",
    "no momentum-encoder + no negatives\n",
    "\n",
    "In my experience, these methods are more brittle (they can collapse to a constant\n",
    "representation, I could not get them to work using this encoder architecture).\n",
    "Even though they are generally more dependent on the\n",
    "[model](https://generallyintelligent.ai/understanding-self-supervised-contrastive-learning.html)\n",
    "[architecture](https://arxiv.org/abs/2010.10241), they can improve\n",
    "performance at smaller batch sizes.\n",
    "\n",
    "You can use the trained model hosted on [Hugging Face Hub](https://huggingface.co/keras-io/semi-supervised-classification-simclr)\n",
    "and try the demo on [Hugging Face Spaces](https://huggingface.co/spaces/keras-io/semi-supervised-classification)."
   ]
  },
  {
   "cell_type": "markdown",
   "metadata": {
    "colab_type": "text"
   },
   "source": [
    "## Acknowledgements\n",
    "\n",
    "I would like to thank [Martin Gorner](https://twitter.com/martin_gorner) for his thorough review.\n",
    "Google Cloud credits were provided for this project."
   ]
  }
 ],
 "metadata": {
  "accelerator": "GPU",
  "colab": {
   "collapsed_sections": [],
   "name": "semisupervised_simclr",
   "private_outputs": false,
   "provenance": [],
   "toc_visible": true
  },
  "kernelspec": {
   "display_name": "Python 3",
   "language": "python",
   "name": "python3"
  },
  "language_info": {
   "codemirror_mode": {
    "name": "ipython",
    "version": 3
   },
   "file_extension": ".py",
   "mimetype": "text/x-python",
   "name": "python",
   "nbconvert_exporter": "python",
   "pygments_lexer": "ipython3",
   "version": "3.7.0"
  }
 },
 "nbformat": 4,
 "nbformat_minor": 0
}